{
 "cells": [
  {
   "cell_type": "markdown",
   "id": "1d577601",
   "metadata": {},
   "source": [
    "Произведем импорт необходимых библиотек"
   ]
  },
  {
   "cell_type": "code",
   "execution_count": 1,
   "id": "ff07683c",
   "metadata": {},
   "outputs": [],
   "source": [
    "import pandas as pd\n",
    "from datetime import datetime\n",
    "import numpy as np\n",
    "import matplotlib\n",
    "import matplotlib.pyplot as plt\n",
    "import seaborn as sns\n",
    "import holidays\n",
    "import lightgbm as lgb\n",
    "import optuna\n",
    "from sklearn.impute import KNNImputer\n",
    "from sklearn.linear_model import LinearRegression\n",
    "from sklearn.metrics import mean_squared_error\n",
    "from sklearn.neighbors import KNeighborsRegressor"
   ]
  },
  {
   "cell_type": "code",
   "execution_count": 2,
   "id": "9a1cabc8",
   "metadata": {},
   "outputs": [],
   "source": [
    "#Чтение исходных данных\n",
    "data_1 = pd.read_csv('sales_raw.csv')\n",
    "data_2 = pd.read_csv('discounts_raw.csv')"
   ]
  },
  {
   "cell_type": "code",
   "execution_count": 3,
   "id": "9d52517a",
   "metadata": {},
   "outputs": [
    {
     "data": {
      "text/plain": [
       "item_id                      int64\n",
       "promo_typeCode             float64\n",
       "sale_price_before_promo    float64\n",
       "sale_price_time_promo      float64\n",
       "date_start                  object\n",
       "date_end                    object\n",
       "dtype: object"
      ]
     },
     "execution_count": 3,
     "metadata": {},
     "output_type": "execute_result"
    }
   ],
   "source": [
    "#Посмотрим каким типом данных обладают колонки date_2\n",
    "data_2.dtypes"
   ]
  },
  {
   "cell_type": "code",
   "execution_count": 4,
   "id": "6be20f40",
   "metadata": {},
   "outputs": [],
   "source": [
    "#Конвертируем тип данных в datetime у колонок 'date_start' и 'date_end'\n",
    "data_2['date_start'] = pd.to_datetime(data_2['date_start'])\n",
    "data_2['date_end'] = pd.to_datetime(data_2['date_end'])"
   ]
  },
  {
   "cell_type": "markdown",
   "id": "69d7fe12",
   "metadata": {},
   "source": [
    "Тоже самое сделаем с date_1"
   ]
  },
  {
   "cell_type": "code",
   "execution_count": 5,
   "id": "eff41e96",
   "metadata": {},
   "outputs": [
    {
     "data": {
      "text/plain": [
       "date        object\n",
       "item_id      int64\n",
       "qnty       float64\n",
       "dtype: object"
      ]
     },
     "execution_count": 5,
     "metadata": {},
     "output_type": "execute_result"
    }
   ],
   "source": [
    "data_1.dtypes"
   ]
  },
  {
   "cell_type": "code",
   "execution_count": 6,
   "id": "6d5c3016",
   "metadata": {},
   "outputs": [],
   "source": [
    "data_1['date'] = pd.to_datetime(data_1['date'])"
   ]
  },
  {
   "cell_type": "markdown",
   "id": "139afa7c",
   "metadata": {},
   "source": [
    "Найдем id товаров, которые продавались в декабре"
   ]
  },
  {
   "cell_type": "code",
   "execution_count": 7,
   "id": "adb3b9ea",
   "metadata": {},
   "outputs": [],
   "source": [
    "df_product_december = data_1[(data_1['date']>'2023-11-30')&(data_1['date']<'2024-01-01')]\n",
    "products_of_dec = df_product_december['item_id'].unique()"
   ]
  },
  {
   "cell_type": "code",
   "execution_count": 8,
   "id": "0e8effbc",
   "metadata": {},
   "outputs": [
    {
     "data": {
      "text/plain": [
       "array([100545, 100645, 100683, 100612, 100165, 100611, 100006, 100601,\n",
       "       100126, 100657, 100035, 100523, 100656, 100604, 100602, 100050,\n",
       "       100646, 100663, 100558, 100553, 100517, 100448, 100390, 100644,\n",
       "       100607, 100516, 100486, 100188, 100591, 100556, 100650, 100510,\n",
       "       100010, 100259, 100192, 100182, 100454, 100193, 100455, 100346,\n",
       "       100525, 100638, 100544, 100651, 100524, 100551, 100003, 100613,\n",
       "       100245, 100590, 100354, 100614, 100450,  11200, 100348, 100528,\n",
       "       100139, 100227, 100257, 100140, 100045, 100469, 100691, 100470,\n",
       "       100639, 100648, 100621, 100001, 100176, 100228, 100530, 100471,\n",
       "       100417, 100668, 100596, 100686, 100399, 100554, 100664, 100418,\n",
       "       100394, 100665, 100487, 100473, 100370, 100547, 100181, 100184,\n",
       "       100526, 100462, 100453, 100225, 100474, 100386, 100375, 100046,\n",
       "       100662], dtype=int64)"
      ]
     },
     "execution_count": 8,
     "metadata": {},
     "output_type": "execute_result"
    }
   ],
   "source": [
    "products_of_dec"
   ]
  },
  {
   "cell_type": "code",
   "execution_count": 9,
   "id": "703a9c1e",
   "metadata": {},
   "outputs": [
    {
     "data": {
      "text/plain": [
       "97"
      ]
     },
     "execution_count": 9,
     "metadata": {},
     "output_type": "execute_result"
    }
   ],
   "source": [
    "len(products_of_dec)"
   ]
  },
  {
   "cell_type": "markdown",
   "id": "d01132c2",
   "metadata": {},
   "source": [
    "Разобьем сроки действия акций на каждый день"
   ]
  },
  {
   "cell_type": "code",
   "execution_count": 10,
   "id": "d16c589b",
   "metadata": {},
   "outputs": [],
   "source": [
    "df = pd.DataFrame()"
   ]
  },
  {
   "cell_type": "code",
   "execution_count": 11,
   "id": "8fb455b2",
   "metadata": {},
   "outputs": [],
   "source": [
    "for i in range(data_2.shape[0]): #Пройдемся по каждому элементу data_2\n",
    "    start_date = data_2['date_start'].values[i]  # Дата начала акции i-го элемента\n",
    "    end_date = data_2['date_end'].values[i]    # Дата окончания акции i-го элемента\n",
    "    date_range = pd.date_range(start=start_date, end=end_date, freq='D')\n",
    "    df_temp = pd.DataFrame({'date': date_range})\n",
    "    item_id = data_2['item_id'].values[i]  # ID i-го элемента\n",
    "    promo_typeCode = data_2['promo_typeCode'].values[i] # Код промоакции i-го элемента\n",
    "    sale_price_before_promo = data_2['sale_price_before_promo'].values[i] # Цена до акции i-го элемента\n",
    "    sale_price_time_promo = data_2['sale_price_time_promo'].values[i] # Цена после акции i-го элемента\n",
    "\n",
    "    df_temp['item_id'] = item_id\n",
    "    df_temp['promo_typeCode'] = promo_typeCode\n",
    "    df_temp['sale_price_before_promo'] = sale_price_before_promo\n",
    "    df_temp['sale_price_time_promo'] = sale_price_time_promo\n",
    "    \n",
    "    df = pd.concat([df, df_temp], ignore_index = True)"
   ]
  },
  {
   "cell_type": "code",
   "execution_count": 12,
   "id": "c9c135f9",
   "metadata": {
    "scrolled": true
   },
   "outputs": [
    {
     "data": {
      "text/html": [
       "<div>\n",
       "<style scoped>\n",
       "    .dataframe tbody tr th:only-of-type {\n",
       "        vertical-align: middle;\n",
       "    }\n",
       "\n",
       "    .dataframe tbody tr th {\n",
       "        vertical-align: top;\n",
       "    }\n",
       "\n",
       "    .dataframe thead th {\n",
       "        text-align: right;\n",
       "    }\n",
       "</style>\n",
       "<table border=\"1\" class=\"dataframe\">\n",
       "  <thead>\n",
       "    <tr style=\"text-align: right;\">\n",
       "      <th></th>\n",
       "      <th>date</th>\n",
       "      <th>item_id</th>\n",
       "      <th>promo_typeCode</th>\n",
       "      <th>sale_price_before_promo</th>\n",
       "      <th>sale_price_time_promo</th>\n",
       "    </tr>\n",
       "  </thead>\n",
       "  <tbody>\n",
       "    <tr>\n",
       "      <th>0</th>\n",
       "      <td>2023-03-02</td>\n",
       "      <td>100551</td>\n",
       "      <td>5.0</td>\n",
       "      <td>159.9</td>\n",
       "      <td>139.9</td>\n",
       "    </tr>\n",
       "    <tr>\n",
       "      <th>1</th>\n",
       "      <td>2023-03-03</td>\n",
       "      <td>100551</td>\n",
       "      <td>5.0</td>\n",
       "      <td>159.9</td>\n",
       "      <td>139.9</td>\n",
       "    </tr>\n",
       "    <tr>\n",
       "      <th>2</th>\n",
       "      <td>2023-03-04</td>\n",
       "      <td>100551</td>\n",
       "      <td>5.0</td>\n",
       "      <td>159.9</td>\n",
       "      <td>139.9</td>\n",
       "    </tr>\n",
       "    <tr>\n",
       "      <th>3</th>\n",
       "      <td>2023-03-05</td>\n",
       "      <td>100551</td>\n",
       "      <td>5.0</td>\n",
       "      <td>159.9</td>\n",
       "      <td>139.9</td>\n",
       "    </tr>\n",
       "    <tr>\n",
       "      <th>4</th>\n",
       "      <td>2023-03-06</td>\n",
       "      <td>100551</td>\n",
       "      <td>5.0</td>\n",
       "      <td>159.9</td>\n",
       "      <td>139.9</td>\n",
       "    </tr>\n",
       "    <tr>\n",
       "      <th>...</th>\n",
       "      <td>...</td>\n",
       "      <td>...</td>\n",
       "      <td>...</td>\n",
       "      <td>...</td>\n",
       "      <td>...</td>\n",
       "    </tr>\n",
       "    <tr>\n",
       "      <th>27441</th>\n",
       "      <td>2023-11-18</td>\n",
       "      <td>100474</td>\n",
       "      <td>5.0</td>\n",
       "      <td>69.9</td>\n",
       "      <td>44.9</td>\n",
       "    </tr>\n",
       "    <tr>\n",
       "      <th>27442</th>\n",
       "      <td>2023-11-19</td>\n",
       "      <td>100474</td>\n",
       "      <td>5.0</td>\n",
       "      <td>69.9</td>\n",
       "      <td>44.9</td>\n",
       "    </tr>\n",
       "    <tr>\n",
       "      <th>27443</th>\n",
       "      <td>2023-11-20</td>\n",
       "      <td>100474</td>\n",
       "      <td>5.0</td>\n",
       "      <td>69.9</td>\n",
       "      <td>44.9</td>\n",
       "    </tr>\n",
       "    <tr>\n",
       "      <th>27444</th>\n",
       "      <td>2023-11-21</td>\n",
       "      <td>100474</td>\n",
       "      <td>5.0</td>\n",
       "      <td>69.9</td>\n",
       "      <td>44.9</td>\n",
       "    </tr>\n",
       "    <tr>\n",
       "      <th>27445</th>\n",
       "      <td>2023-11-22</td>\n",
       "      <td>100474</td>\n",
       "      <td>5.0</td>\n",
       "      <td>69.9</td>\n",
       "      <td>44.9</td>\n",
       "    </tr>\n",
       "  </tbody>\n",
       "</table>\n",
       "<p>27446 rows × 5 columns</p>\n",
       "</div>"
      ],
      "text/plain": [
       "            date  item_id  promo_typeCode  sale_price_before_promo  \\\n",
       "0     2023-03-02   100551             5.0                    159.9   \n",
       "1     2023-03-03   100551             5.0                    159.9   \n",
       "2     2023-03-04   100551             5.0                    159.9   \n",
       "3     2023-03-05   100551             5.0                    159.9   \n",
       "4     2023-03-06   100551             5.0                    159.9   \n",
       "...          ...      ...             ...                      ...   \n",
       "27441 2023-11-18   100474             5.0                     69.9   \n",
       "27442 2023-11-19   100474             5.0                     69.9   \n",
       "27443 2023-11-20   100474             5.0                     69.9   \n",
       "27444 2023-11-21   100474             5.0                     69.9   \n",
       "27445 2023-11-22   100474             5.0                     69.9   \n",
       "\n",
       "       sale_price_time_promo  \n",
       "0                      139.9  \n",
       "1                      139.9  \n",
       "2                      139.9  \n",
       "3                      139.9  \n",
       "4                      139.9  \n",
       "...                      ...  \n",
       "27441                   44.9  \n",
       "27442                   44.9  \n",
       "27443                   44.9  \n",
       "27444                   44.9  \n",
       "27445                   44.9  \n",
       "\n",
       "[27446 rows x 5 columns]"
      ]
     },
     "execution_count": 12,
     "metadata": {},
     "output_type": "execute_result"
    }
   ],
   "source": [
    "df"
   ]
  },
  {
   "cell_type": "markdown",
   "id": "8ac91235",
   "metadata": {},
   "source": [
    "Создадим новую колонку с днями недели"
   ]
  },
  {
   "cell_type": "code",
   "execution_count": 15,
   "id": "acfef95e",
   "metadata": {},
   "outputs": [],
   "source": [
    "df['day_of_week'] = df['date'].dt.dayofweek"
   ]
  },
  {
   "cell_type": "markdown",
   "id": "d40e9d36",
   "metadata": {},
   "source": [
    "Объединим dataframe с данными об акциях и ценах и dataframe с количеством проданных товаров. Объединять будем по date и item_id"
   ]
  },
  {
   "cell_type": "code",
   "execution_count": 16,
   "id": "e80306f3",
   "metadata": {},
   "outputs": [],
   "source": [
    "df_itog = df.merge(data_1, on = ['date', 'item_id'], how = 'left')"
   ]
  },
  {
   "cell_type": "code",
   "execution_count": 19,
   "id": "e56ae68d",
   "metadata": {},
   "outputs": [
    {
     "data": {
      "text/html": [
       "<div>\n",
       "<style scoped>\n",
       "    .dataframe tbody tr th:only-of-type {\n",
       "        vertical-align: middle;\n",
       "    }\n",
       "\n",
       "    .dataframe tbody tr th {\n",
       "        vertical-align: top;\n",
       "    }\n",
       "\n",
       "    .dataframe thead th {\n",
       "        text-align: right;\n",
       "    }\n",
       "</style>\n",
       "<table border=\"1\" class=\"dataframe\">\n",
       "  <thead>\n",
       "    <tr style=\"text-align: right;\">\n",
       "      <th></th>\n",
       "      <th>date</th>\n",
       "      <th>item_id</th>\n",
       "      <th>promo_typeCode</th>\n",
       "      <th>sale_price_before_promo</th>\n",
       "      <th>sale_price_time_promo</th>\n",
       "      <th>day_of_week</th>\n",
       "      <th>qnty</th>\n",
       "      <th>year</th>\n",
       "      <th>month</th>\n",
       "      <th>day</th>\n",
       "    </tr>\n",
       "  </thead>\n",
       "  <tbody>\n",
       "    <tr>\n",
       "      <th>7696</th>\n",
       "      <td>2024-01-09</td>\n",
       "      <td>100644</td>\n",
       "      <td>6.0</td>\n",
       "      <td>109.9</td>\n",
       "      <td>79.9</td>\n",
       "      <td>1</td>\n",
       "      <td>NaN</td>\n",
       "      <td>2024</td>\n",
       "      <td>1</td>\n",
       "      <td>9</td>\n",
       "    </tr>\n",
       "  </tbody>\n",
       "</table>\n",
       "</div>"
      ],
      "text/plain": [
       "           date  item_id  promo_typeCode  sale_price_before_promo  \\\n",
       "7696 2024-01-09   100644             6.0                    109.9   \n",
       "\n",
       "      sale_price_time_promo  day_of_week  qnty  year  month  day  \n",
       "7696                   79.9            1   NaN  2024      1    9  "
      ]
     },
     "execution_count": 19,
     "metadata": {},
     "output_type": "execute_result"
    }
   ],
   "source": [
    "df_itog[df_itog.index == 7696]"
   ]
  },
  {
   "cell_type": "markdown",
   "id": "dca67b03",
   "metadata": {},
   "source": [
    "Преобразуем колонку с датой в отдельные колонки(год, месяц, день)"
   ]
  },
  {
   "cell_type": "code",
   "execution_count": 18,
   "id": "56caab69",
   "metadata": {},
   "outputs": [],
   "source": [
    "df_itog['year'] = df_itog['date'].apply(lambda time: time.year)\n",
    "\n",
    "df_itog['month'] = df_itog['date'].apply(lambda time: time.month)\n",
    "\n",
    "df_itog['day'] = df_itog['date'].apply(lambda time: time.day)"
   ]
  },
  {
   "cell_type": "code",
   "execution_count": 20,
   "id": "28401f7d",
   "metadata": {},
   "outputs": [
    {
     "data": {
      "text/html": [
       "<div>\n",
       "<style scoped>\n",
       "    .dataframe tbody tr th:only-of-type {\n",
       "        vertical-align: middle;\n",
       "    }\n",
       "\n",
       "    .dataframe tbody tr th {\n",
       "        vertical-align: top;\n",
       "    }\n",
       "\n",
       "    .dataframe thead th {\n",
       "        text-align: right;\n",
       "    }\n",
       "</style>\n",
       "<table border=\"1\" class=\"dataframe\">\n",
       "  <thead>\n",
       "    <tr style=\"text-align: right;\">\n",
       "      <th></th>\n",
       "      <th>date</th>\n",
       "      <th>item_id</th>\n",
       "      <th>promo_typeCode</th>\n",
       "      <th>sale_price_before_promo</th>\n",
       "      <th>sale_price_time_promo</th>\n",
       "      <th>day_of_week</th>\n",
       "      <th>qnty</th>\n",
       "      <th>year</th>\n",
       "      <th>month</th>\n",
       "      <th>day</th>\n",
       "    </tr>\n",
       "  </thead>\n",
       "  <tbody>\n",
       "    <tr>\n",
       "      <th>0</th>\n",
       "      <td>2023-03-02</td>\n",
       "      <td>100551</td>\n",
       "      <td>5.0</td>\n",
       "      <td>159.9</td>\n",
       "      <td>139.9</td>\n",
       "      <td>3</td>\n",
       "      <td>3.0</td>\n",
       "      <td>2023</td>\n",
       "      <td>3</td>\n",
       "      <td>2</td>\n",
       "    </tr>\n",
       "    <tr>\n",
       "      <th>1</th>\n",
       "      <td>2023-03-03</td>\n",
       "      <td>100551</td>\n",
       "      <td>5.0</td>\n",
       "      <td>159.9</td>\n",
       "      <td>139.9</td>\n",
       "      <td>4</td>\n",
       "      <td>3.0</td>\n",
       "      <td>2023</td>\n",
       "      <td>3</td>\n",
       "      <td>3</td>\n",
       "    </tr>\n",
       "    <tr>\n",
       "      <th>2</th>\n",
       "      <td>2023-03-04</td>\n",
       "      <td>100551</td>\n",
       "      <td>5.0</td>\n",
       "      <td>159.9</td>\n",
       "      <td>139.9</td>\n",
       "      <td>5</td>\n",
       "      <td>1.0</td>\n",
       "      <td>2023</td>\n",
       "      <td>3</td>\n",
       "      <td>4</td>\n",
       "    </tr>\n",
       "    <tr>\n",
       "      <th>3</th>\n",
       "      <td>2023-03-05</td>\n",
       "      <td>100551</td>\n",
       "      <td>5.0</td>\n",
       "      <td>159.9</td>\n",
       "      <td>139.9</td>\n",
       "      <td>6</td>\n",
       "      <td>5.0</td>\n",
       "      <td>2023</td>\n",
       "      <td>3</td>\n",
       "      <td>5</td>\n",
       "    </tr>\n",
       "    <tr>\n",
       "      <th>4</th>\n",
       "      <td>2023-03-06</td>\n",
       "      <td>100551</td>\n",
       "      <td>5.0</td>\n",
       "      <td>159.9</td>\n",
       "      <td>139.9</td>\n",
       "      <td>0</td>\n",
       "      <td>6.0</td>\n",
       "      <td>2023</td>\n",
       "      <td>3</td>\n",
       "      <td>6</td>\n",
       "    </tr>\n",
       "    <tr>\n",
       "      <th>...</th>\n",
       "      <td>...</td>\n",
       "      <td>...</td>\n",
       "      <td>...</td>\n",
       "      <td>...</td>\n",
       "      <td>...</td>\n",
       "      <td>...</td>\n",
       "      <td>...</td>\n",
       "      <td>...</td>\n",
       "      <td>...</td>\n",
       "      <td>...</td>\n",
       "    </tr>\n",
       "    <tr>\n",
       "      <th>27441</th>\n",
       "      <td>2023-11-18</td>\n",
       "      <td>100474</td>\n",
       "      <td>5.0</td>\n",
       "      <td>69.9</td>\n",
       "      <td>44.9</td>\n",
       "      <td>5</td>\n",
       "      <td>16.0</td>\n",
       "      <td>2023</td>\n",
       "      <td>11</td>\n",
       "      <td>18</td>\n",
       "    </tr>\n",
       "    <tr>\n",
       "      <th>27442</th>\n",
       "      <td>2023-11-19</td>\n",
       "      <td>100474</td>\n",
       "      <td>5.0</td>\n",
       "      <td>69.9</td>\n",
       "      <td>44.9</td>\n",
       "      <td>6</td>\n",
       "      <td>12.0</td>\n",
       "      <td>2023</td>\n",
       "      <td>11</td>\n",
       "      <td>19</td>\n",
       "    </tr>\n",
       "    <tr>\n",
       "      <th>27443</th>\n",
       "      <td>2023-11-20</td>\n",
       "      <td>100474</td>\n",
       "      <td>5.0</td>\n",
       "      <td>69.9</td>\n",
       "      <td>44.9</td>\n",
       "      <td>0</td>\n",
       "      <td>7.0</td>\n",
       "      <td>2023</td>\n",
       "      <td>11</td>\n",
       "      <td>20</td>\n",
       "    </tr>\n",
       "    <tr>\n",
       "      <th>27444</th>\n",
       "      <td>2023-11-21</td>\n",
       "      <td>100474</td>\n",
       "      <td>5.0</td>\n",
       "      <td>69.9</td>\n",
       "      <td>44.9</td>\n",
       "      <td>1</td>\n",
       "      <td>3.0</td>\n",
       "      <td>2023</td>\n",
       "      <td>11</td>\n",
       "      <td>21</td>\n",
       "    </tr>\n",
       "    <tr>\n",
       "      <th>27445</th>\n",
       "      <td>2023-11-22</td>\n",
       "      <td>100474</td>\n",
       "      <td>5.0</td>\n",
       "      <td>69.9</td>\n",
       "      <td>44.9</td>\n",
       "      <td>2</td>\n",
       "      <td>3.0</td>\n",
       "      <td>2023</td>\n",
       "      <td>11</td>\n",
       "      <td>22</td>\n",
       "    </tr>\n",
       "  </tbody>\n",
       "</table>\n",
       "<p>27446 rows × 10 columns</p>\n",
       "</div>"
      ],
      "text/plain": [
       "            date  item_id  promo_typeCode  sale_price_before_promo  \\\n",
       "0     2023-03-02   100551             5.0                    159.9   \n",
       "1     2023-03-03   100551             5.0                    159.9   \n",
       "2     2023-03-04   100551             5.0                    159.9   \n",
       "3     2023-03-05   100551             5.0                    159.9   \n",
       "4     2023-03-06   100551             5.0                    159.9   \n",
       "...          ...      ...             ...                      ...   \n",
       "27441 2023-11-18   100474             5.0                     69.9   \n",
       "27442 2023-11-19   100474             5.0                     69.9   \n",
       "27443 2023-11-20   100474             5.0                     69.9   \n",
       "27444 2023-11-21   100474             5.0                     69.9   \n",
       "27445 2023-11-22   100474             5.0                     69.9   \n",
       "\n",
       "       sale_price_time_promo  day_of_week  qnty  year  month  day  \n",
       "0                      139.9            3   3.0  2023      3    2  \n",
       "1                      139.9            4   3.0  2023      3    3  \n",
       "2                      139.9            5   1.0  2023      3    4  \n",
       "3                      139.9            6   5.0  2023      3    5  \n",
       "4                      139.9            0   6.0  2023      3    6  \n",
       "...                      ...          ...   ...   ...    ...  ...  \n",
       "27441                   44.9            5  16.0  2023     11   18  \n",
       "27442                   44.9            6  12.0  2023     11   19  \n",
       "27443                   44.9            0   7.0  2023     11   20  \n",
       "27444                   44.9            1   3.0  2023     11   21  \n",
       "27445                   44.9            2   3.0  2023     11   22  \n",
       "\n",
       "[27446 rows x 10 columns]"
      ]
     },
     "execution_count": 20,
     "metadata": {},
     "output_type": "execute_result"
    }
   ],
   "source": [
    "df_itog"
   ]
  },
  {
   "cell_type": "markdown",
   "id": "8cae1356",
   "metadata": {},
   "source": [
    "Вычислим процент скидки для каждого элемента датафрейма"
   ]
  },
  {
   "cell_type": "code",
   "execution_count": 21,
   "id": "ee3ccedd",
   "metadata": {},
   "outputs": [],
   "source": [
    "df_itog['percent_of_discount'] = round((((df_itog['sale_price_before_promo'] - df_itog['sale_price_time_promo'])/df_itog['sale_price_before_promo'])*100), 0)"
   ]
  },
  {
   "cell_type": "markdown",
   "id": "8b4ea642",
   "metadata": {},
   "source": [
    "Уберем все элементы у которых скидка < 0"
   ]
  },
  {
   "cell_type": "code",
   "execution_count": 22,
   "id": "bf804d2a",
   "metadata": {},
   "outputs": [],
   "source": [
    "df_itog = df_itog[df_itog['percent_of_discount']>=0]"
   ]
  },
  {
   "cell_type": "markdown",
   "id": "f157e441",
   "metadata": {},
   "source": [
    "Удалим из итогового датафрейма цену до акции и после, а также отсортируем его по дате(по возрастанию)"
   ]
  },
  {
   "cell_type": "code",
   "execution_count": 23,
   "id": "47d32dc6",
   "metadata": {},
   "outputs": [],
   "source": [
    "df_itog = df_itog.drop(['sale_price_before_promo', 'sale_price_time_promo'], axis = 1)"
   ]
  },
  {
   "cell_type": "code",
   "execution_count": 24,
   "id": "742180d8",
   "metadata": {},
   "outputs": [],
   "source": [
    "df_itog = df_itog.sort_values(by = ['date'])"
   ]
  },
  {
   "cell_type": "code",
   "execution_count": 25,
   "id": "52d3c96a",
   "metadata": {},
   "outputs": [
    {
     "data": {
      "text/html": [
       "<div>\n",
       "<style scoped>\n",
       "    .dataframe tbody tr th:only-of-type {\n",
       "        vertical-align: middle;\n",
       "    }\n",
       "\n",
       "    .dataframe tbody tr th {\n",
       "        vertical-align: top;\n",
       "    }\n",
       "\n",
       "    .dataframe thead th {\n",
       "        text-align: right;\n",
       "    }\n",
       "</style>\n",
       "<table border=\"1\" class=\"dataframe\">\n",
       "  <thead>\n",
       "    <tr style=\"text-align: right;\">\n",
       "      <th></th>\n",
       "      <th>date</th>\n",
       "      <th>item_id</th>\n",
       "      <th>promo_typeCode</th>\n",
       "      <th>day_of_week</th>\n",
       "      <th>qnty</th>\n",
       "      <th>year</th>\n",
       "      <th>month</th>\n",
       "      <th>day</th>\n",
       "      <th>percent_of_discount</th>\n",
       "    </tr>\n",
       "  </thead>\n",
       "  <tbody>\n",
       "    <tr>\n",
       "      <th>705</th>\n",
       "      <td>2020-01-02</td>\n",
       "      <td>100448</td>\n",
       "      <td>5.0</td>\n",
       "      <td>3</td>\n",
       "      <td>3.0</td>\n",
       "      <td>2020</td>\n",
       "      <td>1</td>\n",
       "      <td>2</td>\n",
       "      <td>33.0</td>\n",
       "    </tr>\n",
       "    <tr>\n",
       "      <th>733</th>\n",
       "      <td>2020-01-02</td>\n",
       "      <td>100638</td>\n",
       "      <td>5.0</td>\n",
       "      <td>3</td>\n",
       "      <td>49.0</td>\n",
       "      <td>2020</td>\n",
       "      <td>1</td>\n",
       "      <td>2</td>\n",
       "      <td>40.0</td>\n",
       "    </tr>\n",
       "    <tr>\n",
       "      <th>7490</th>\n",
       "      <td>2020-01-02</td>\n",
       "      <td>100551</td>\n",
       "      <td>7.0</td>\n",
       "      <td>3</td>\n",
       "      <td>7.0</td>\n",
       "      <td>2020</td>\n",
       "      <td>1</td>\n",
       "      <td>2</td>\n",
       "      <td>39.0</td>\n",
       "    </tr>\n",
       "    <tr>\n",
       "      <th>18309</th>\n",
       "      <td>2020-01-02</td>\n",
       "      <td>100386</td>\n",
       "      <td>6.0</td>\n",
       "      <td>3</td>\n",
       "      <td>NaN</td>\n",
       "      <td>2020</td>\n",
       "      <td>1</td>\n",
       "      <td>2</td>\n",
       "      <td>24.0</td>\n",
       "    </tr>\n",
       "    <tr>\n",
       "      <th>726</th>\n",
       "      <td>2020-01-02</td>\n",
       "      <td>100545</td>\n",
       "      <td>5.0</td>\n",
       "      <td>3</td>\n",
       "      <td>43.0</td>\n",
       "      <td>2020</td>\n",
       "      <td>1</td>\n",
       "      <td>2</td>\n",
       "      <td>38.0</td>\n",
       "    </tr>\n",
       "    <tr>\n",
       "      <th>...</th>\n",
       "      <td>...</td>\n",
       "      <td>...</td>\n",
       "      <td>...</td>\n",
       "      <td>...</td>\n",
       "      <td>...</td>\n",
       "      <td>...</td>\n",
       "      <td>...</td>\n",
       "      <td>...</td>\n",
       "      <td>...</td>\n",
       "    </tr>\n",
       "    <tr>\n",
       "      <th>8658</th>\n",
       "      <td>2024-02-14</td>\n",
       "      <td>100650</td>\n",
       "      <td>5.0</td>\n",
       "      <td>2</td>\n",
       "      <td>NaN</td>\n",
       "      <td>2024</td>\n",
       "      <td>2</td>\n",
       "      <td>14</td>\n",
       "      <td>27.0</td>\n",
       "    </tr>\n",
       "    <tr>\n",
       "      <th>8626</th>\n",
       "      <td>2024-02-14</td>\n",
       "      <td>100473</td>\n",
       "      <td>5.0</td>\n",
       "      <td>2</td>\n",
       "      <td>NaN</td>\n",
       "      <td>2024</td>\n",
       "      <td>2</td>\n",
       "      <td>14</td>\n",
       "      <td>29.0</td>\n",
       "    </tr>\n",
       "    <tr>\n",
       "      <th>23062</th>\n",
       "      <td>2024-02-14</td>\n",
       "      <td>100225</td>\n",
       "      <td>5.0</td>\n",
       "      <td>2</td>\n",
       "      <td>NaN</td>\n",
       "      <td>2024</td>\n",
       "      <td>2</td>\n",
       "      <td>14</td>\n",
       "      <td>14.0</td>\n",
       "    </tr>\n",
       "    <tr>\n",
       "      <th>20965</th>\n",
       "      <td>2024-02-14</td>\n",
       "      <td>100551</td>\n",
       "      <td>5.0</td>\n",
       "      <td>2</td>\n",
       "      <td>NaN</td>\n",
       "      <td>2024</td>\n",
       "      <td>2</td>\n",
       "      <td>14</td>\n",
       "      <td>0.0</td>\n",
       "    </tr>\n",
       "    <tr>\n",
       "      <th>23090</th>\n",
       "      <td>2024-02-14</td>\n",
       "      <td>100386</td>\n",
       "      <td>5.0</td>\n",
       "      <td>2</td>\n",
       "      <td>NaN</td>\n",
       "      <td>2024</td>\n",
       "      <td>2</td>\n",
       "      <td>14</td>\n",
       "      <td>29.0</td>\n",
       "    </tr>\n",
       "  </tbody>\n",
       "</table>\n",
       "<p>27424 rows × 9 columns</p>\n",
       "</div>"
      ],
      "text/plain": [
       "            date  item_id  promo_typeCode  day_of_week  qnty  year  month  \\\n",
       "705   2020-01-02   100448             5.0            3   3.0  2020      1   \n",
       "733   2020-01-02   100638             5.0            3  49.0  2020      1   \n",
       "7490  2020-01-02   100551             7.0            3   7.0  2020      1   \n",
       "18309 2020-01-02   100386             6.0            3   NaN  2020      1   \n",
       "726   2020-01-02   100545             5.0            3  43.0  2020      1   \n",
       "...          ...      ...             ...          ...   ...   ...    ...   \n",
       "8658  2024-02-14   100650             5.0            2   NaN  2024      2   \n",
       "8626  2024-02-14   100473             5.0            2   NaN  2024      2   \n",
       "23062 2024-02-14   100225             5.0            2   NaN  2024      2   \n",
       "20965 2024-02-14   100551             5.0            2   NaN  2024      2   \n",
       "23090 2024-02-14   100386             5.0            2   NaN  2024      2   \n",
       "\n",
       "       day  percent_of_discount  \n",
       "705      2                 33.0  \n",
       "733      2                 40.0  \n",
       "7490     2                 39.0  \n",
       "18309    2                 24.0  \n",
       "726      2                 38.0  \n",
       "...    ...                  ...  \n",
       "8658    14                 27.0  \n",
       "8626    14                 29.0  \n",
       "23062   14                 14.0  \n",
       "20965   14                  0.0  \n",
       "23090   14                 29.0  \n",
       "\n",
       "[27424 rows x 9 columns]"
      ]
     },
     "execution_count": 25,
     "metadata": {},
     "output_type": "execute_result"
    }
   ],
   "source": [
    "df_itog"
   ]
  },
  {
   "cell_type": "markdown",
   "id": "fb87a756",
   "metadata": {},
   "source": [
    "Создадим словарь, в котором будут храниться даты всех праздников с 2020 по 2024 год при помощи библиотеки holidays"
   ]
  },
  {
   "cell_type": "code",
   "execution_count": 26,
   "id": "4aed3ae1",
   "metadata": {},
   "outputs": [],
   "source": [
    "ru_holidays = holidays.RU(years = [2020, 2021, 2022, 2023, 2024])"
   ]
  },
  {
   "cell_type": "code",
   "execution_count": 27,
   "id": "3aa297fd",
   "metadata": {},
   "outputs": [
    {
     "data": {
      "text/plain": [
       "{datetime.date(2020, 1, 1): 'Новогодние каникулы', datetime.date(2020, 1, 2): 'Новогодние каникулы', datetime.date(2020, 1, 3): 'Новогодние каникулы', datetime.date(2020, 1, 4): 'Новогодние каникулы', datetime.date(2020, 1, 5): 'Новогодние каникулы', datetime.date(2020, 1, 6): 'Новогодние каникулы', datetime.date(2020, 1, 8): 'Новогодние каникулы', datetime.date(2020, 1, 7): 'Рождество Христово', datetime.date(2020, 2, 23): 'День защитника Отечества', datetime.date(2020, 3, 8): 'Международный женский день', datetime.date(2020, 5, 1): 'Праздник Весны и Труда', datetime.date(2020, 5, 9): 'День Победы', datetime.date(2020, 6, 12): 'День России', datetime.date(2020, 11, 4): 'День народного единства', datetime.date(2021, 1, 1): 'Новогодние каникулы', datetime.date(2021, 1, 2): 'Новогодние каникулы', datetime.date(2021, 1, 3): 'Новогодние каникулы', datetime.date(2021, 1, 4): 'Новогодние каникулы', datetime.date(2021, 1, 5): 'Новогодние каникулы', datetime.date(2021, 1, 6): 'Новогодние каникулы', datetime.date(2021, 1, 8): 'Новогодние каникулы', datetime.date(2021, 1, 7): 'Рождество Христово', datetime.date(2021, 2, 23): 'День защитника Отечества', datetime.date(2021, 3, 8): 'Международный женский день', datetime.date(2021, 5, 1): 'Праздник Весны и Труда', datetime.date(2021, 5, 9): 'День Победы', datetime.date(2021, 6, 12): 'День России', datetime.date(2021, 11, 4): 'День народного единства', datetime.date(2022, 1, 1): 'Новогодние каникулы', datetime.date(2022, 1, 2): 'Новогодние каникулы', datetime.date(2022, 1, 3): 'Новогодние каникулы', datetime.date(2022, 1, 4): 'Новогодние каникулы', datetime.date(2022, 1, 5): 'Новогодние каникулы', datetime.date(2022, 1, 6): 'Новогодние каникулы', datetime.date(2022, 1, 8): 'Новогодние каникулы', datetime.date(2022, 1, 7): 'Рождество Христово', datetime.date(2022, 2, 23): 'День защитника Отечества', datetime.date(2022, 3, 8): 'Международный женский день', datetime.date(2022, 5, 1): 'Праздник Весны и Труда', datetime.date(2022, 5, 9): 'День Победы', datetime.date(2022, 6, 12): 'День России', datetime.date(2022, 11, 4): 'День народного единства', datetime.date(2023, 1, 1): 'Новогодние каникулы', datetime.date(2023, 1, 2): 'Новогодние каникулы', datetime.date(2023, 1, 3): 'Новогодние каникулы', datetime.date(2023, 1, 4): 'Новогодние каникулы', datetime.date(2023, 1, 5): 'Новогодние каникулы', datetime.date(2023, 1, 6): 'Новогодние каникулы', datetime.date(2023, 1, 8): 'Новогодние каникулы', datetime.date(2023, 1, 7): 'Рождество Христово', datetime.date(2023, 2, 23): 'День защитника Отечества', datetime.date(2023, 3, 8): 'Международный женский день', datetime.date(2023, 5, 1): 'Праздник Весны и Труда', datetime.date(2023, 5, 9): 'День Победы', datetime.date(2023, 6, 12): 'День России', datetime.date(2023, 11, 4): 'День народного единства', datetime.date(2023, 2, 24): 'День защитника Отечества', datetime.date(2023, 5, 8): 'День Победы', datetime.date(2024, 1, 1): 'Новогодние каникулы', datetime.date(2024, 1, 2): 'Новогодние каникулы', datetime.date(2024, 1, 3): 'Новогодние каникулы', datetime.date(2024, 1, 4): 'Новогодние каникулы', datetime.date(2024, 1, 5): 'Новогодние каникулы', datetime.date(2024, 1, 6): 'Новогодние каникулы', datetime.date(2024, 1, 8): 'Новогодние каникулы', datetime.date(2024, 1, 7): 'Рождество Христово', datetime.date(2024, 2, 23): 'День защитника Отечества', datetime.date(2024, 3, 8): 'Международный женский день', datetime.date(2024, 5, 1): 'Праздник Весны и Труда', datetime.date(2024, 5, 9): 'День Победы', datetime.date(2024, 6, 12): 'День России', datetime.date(2024, 11, 4): 'День народного единства'}"
      ]
     },
     "execution_count": 27,
     "metadata": {},
     "output_type": "execute_result"
    }
   ],
   "source": [
    "ru_holidays"
   ]
  },
  {
   "cell_type": "markdown",
   "id": "177e43e4",
   "metadata": {},
   "source": [
    "Создадим колонку, в которой будет храниться информация, о том является ли дата государственным праздником (0-нет, 1-да)"
   ]
  },
  {
   "cell_type": "code",
   "execution_count": 28,
   "id": "40914f4d",
   "metadata": {},
   "outputs": [],
   "source": [
    "df_itog['is_hol'] = pd.Series(df_itog.index).apply(lambda x:ru_holidays.get(x)).values"
   ]
  },
  {
   "cell_type": "code",
   "execution_count": 29,
   "id": "0a753e3b",
   "metadata": {},
   "outputs": [],
   "source": [
    "df_itog['is_hol'] = df_itog['is_hol'].astype('bool').astype('int')"
   ]
  },
  {
   "cell_type": "code",
   "execution_count": 30,
   "id": "b96d24cb",
   "metadata": {},
   "outputs": [],
   "source": [
    "#Данная функция конвертирует numpy.datetime в pythom.datetime\n",
    "def to_datetime(date):\n",
    "    timestamp = ((date - np.datetime64('1970-01-01T00:00:00'))\n",
    "                 / np.timedelta64(1, 's'))\n",
    "    return datetime.utcfromtimestamp(timestamp)"
   ]
  },
  {
   "cell_type": "code",
   "execution_count": 31,
   "id": "8bf0bae0",
   "metadata": {},
   "outputs": [],
   "source": [
    "for i in range(df_itog.shape[0]):\n",
    "    if to_datetime(df_itog.date.values[i]) in ru_holidays:\n",
    "        df_itog.is_hol.values[i] = 1\n",
    "    else:\n",
    "        df_itog.is_hol.values[i] = 0"
   ]
  },
  {
   "cell_type": "code",
   "execution_count": 32,
   "id": "52580c14",
   "metadata": {},
   "outputs": [
    {
     "data": {
      "text/html": [
       "<div>\n",
       "<style scoped>\n",
       "    .dataframe tbody tr th:only-of-type {\n",
       "        vertical-align: middle;\n",
       "    }\n",
       "\n",
       "    .dataframe tbody tr th {\n",
       "        vertical-align: top;\n",
       "    }\n",
       "\n",
       "    .dataframe thead th {\n",
       "        text-align: right;\n",
       "    }\n",
       "</style>\n",
       "<table border=\"1\" class=\"dataframe\">\n",
       "  <thead>\n",
       "    <tr style=\"text-align: right;\">\n",
       "      <th></th>\n",
       "      <th>date</th>\n",
       "      <th>item_id</th>\n",
       "      <th>promo_typeCode</th>\n",
       "      <th>day_of_week</th>\n",
       "      <th>qnty</th>\n",
       "      <th>year</th>\n",
       "      <th>month</th>\n",
       "      <th>day</th>\n",
       "      <th>percent_of_discount</th>\n",
       "      <th>is_hol</th>\n",
       "    </tr>\n",
       "  </thead>\n",
       "  <tbody>\n",
       "    <tr>\n",
       "      <th>705</th>\n",
       "      <td>2020-01-02</td>\n",
       "      <td>100448</td>\n",
       "      <td>5.0</td>\n",
       "      <td>3</td>\n",
       "      <td>3.0</td>\n",
       "      <td>2020</td>\n",
       "      <td>1</td>\n",
       "      <td>2</td>\n",
       "      <td>33.0</td>\n",
       "      <td>1</td>\n",
       "    </tr>\n",
       "    <tr>\n",
       "      <th>733</th>\n",
       "      <td>2020-01-02</td>\n",
       "      <td>100638</td>\n",
       "      <td>5.0</td>\n",
       "      <td>3</td>\n",
       "      <td>49.0</td>\n",
       "      <td>2020</td>\n",
       "      <td>1</td>\n",
       "      <td>2</td>\n",
       "      <td>40.0</td>\n",
       "      <td>1</td>\n",
       "    </tr>\n",
       "    <tr>\n",
       "      <th>7490</th>\n",
       "      <td>2020-01-02</td>\n",
       "      <td>100551</td>\n",
       "      <td>7.0</td>\n",
       "      <td>3</td>\n",
       "      <td>7.0</td>\n",
       "      <td>2020</td>\n",
       "      <td>1</td>\n",
       "      <td>2</td>\n",
       "      <td>39.0</td>\n",
       "      <td>1</td>\n",
       "    </tr>\n",
       "    <tr>\n",
       "      <th>18309</th>\n",
       "      <td>2020-01-02</td>\n",
       "      <td>100386</td>\n",
       "      <td>6.0</td>\n",
       "      <td>3</td>\n",
       "      <td>NaN</td>\n",
       "      <td>2020</td>\n",
       "      <td>1</td>\n",
       "      <td>2</td>\n",
       "      <td>24.0</td>\n",
       "      <td>1</td>\n",
       "    </tr>\n",
       "    <tr>\n",
       "      <th>726</th>\n",
       "      <td>2020-01-02</td>\n",
       "      <td>100545</td>\n",
       "      <td>5.0</td>\n",
       "      <td>3</td>\n",
       "      <td>43.0</td>\n",
       "      <td>2020</td>\n",
       "      <td>1</td>\n",
       "      <td>2</td>\n",
       "      <td>38.0</td>\n",
       "      <td>1</td>\n",
       "    </tr>\n",
       "    <tr>\n",
       "      <th>...</th>\n",
       "      <td>...</td>\n",
       "      <td>...</td>\n",
       "      <td>...</td>\n",
       "      <td>...</td>\n",
       "      <td>...</td>\n",
       "      <td>...</td>\n",
       "      <td>...</td>\n",
       "      <td>...</td>\n",
       "      <td>...</td>\n",
       "      <td>...</td>\n",
       "    </tr>\n",
       "    <tr>\n",
       "      <th>8658</th>\n",
       "      <td>2024-02-14</td>\n",
       "      <td>100650</td>\n",
       "      <td>5.0</td>\n",
       "      <td>2</td>\n",
       "      <td>NaN</td>\n",
       "      <td>2024</td>\n",
       "      <td>2</td>\n",
       "      <td>14</td>\n",
       "      <td>27.0</td>\n",
       "      <td>0</td>\n",
       "    </tr>\n",
       "    <tr>\n",
       "      <th>8626</th>\n",
       "      <td>2024-02-14</td>\n",
       "      <td>100473</td>\n",
       "      <td>5.0</td>\n",
       "      <td>2</td>\n",
       "      <td>NaN</td>\n",
       "      <td>2024</td>\n",
       "      <td>2</td>\n",
       "      <td>14</td>\n",
       "      <td>29.0</td>\n",
       "      <td>0</td>\n",
       "    </tr>\n",
       "    <tr>\n",
       "      <th>23062</th>\n",
       "      <td>2024-02-14</td>\n",
       "      <td>100225</td>\n",
       "      <td>5.0</td>\n",
       "      <td>2</td>\n",
       "      <td>NaN</td>\n",
       "      <td>2024</td>\n",
       "      <td>2</td>\n",
       "      <td>14</td>\n",
       "      <td>14.0</td>\n",
       "      <td>0</td>\n",
       "    </tr>\n",
       "    <tr>\n",
       "      <th>20965</th>\n",
       "      <td>2024-02-14</td>\n",
       "      <td>100551</td>\n",
       "      <td>5.0</td>\n",
       "      <td>2</td>\n",
       "      <td>NaN</td>\n",
       "      <td>2024</td>\n",
       "      <td>2</td>\n",
       "      <td>14</td>\n",
       "      <td>0.0</td>\n",
       "      <td>0</td>\n",
       "    </tr>\n",
       "    <tr>\n",
       "      <th>23090</th>\n",
       "      <td>2024-02-14</td>\n",
       "      <td>100386</td>\n",
       "      <td>5.0</td>\n",
       "      <td>2</td>\n",
       "      <td>NaN</td>\n",
       "      <td>2024</td>\n",
       "      <td>2</td>\n",
       "      <td>14</td>\n",
       "      <td>29.0</td>\n",
       "      <td>0</td>\n",
       "    </tr>\n",
       "  </tbody>\n",
       "</table>\n",
       "<p>27424 rows × 10 columns</p>\n",
       "</div>"
      ],
      "text/plain": [
       "            date  item_id  promo_typeCode  day_of_week  qnty  year  month  \\\n",
       "705   2020-01-02   100448             5.0            3   3.0  2020      1   \n",
       "733   2020-01-02   100638             5.0            3  49.0  2020      1   \n",
       "7490  2020-01-02   100551             7.0            3   7.0  2020      1   \n",
       "18309 2020-01-02   100386             6.0            3   NaN  2020      1   \n",
       "726   2020-01-02   100545             5.0            3  43.0  2020      1   \n",
       "...          ...      ...             ...          ...   ...   ...    ...   \n",
       "8658  2024-02-14   100650             5.0            2   NaN  2024      2   \n",
       "8626  2024-02-14   100473             5.0            2   NaN  2024      2   \n",
       "23062 2024-02-14   100225             5.0            2   NaN  2024      2   \n",
       "20965 2024-02-14   100551             5.0            2   NaN  2024      2   \n",
       "23090 2024-02-14   100386             5.0            2   NaN  2024      2   \n",
       "\n",
       "       day  percent_of_discount  is_hol  \n",
       "705      2                 33.0       1  \n",
       "733      2                 40.0       1  \n",
       "7490     2                 39.0       1  \n",
       "18309    2                 24.0       1  \n",
       "726      2                 38.0       1  \n",
       "...    ...                  ...     ...  \n",
       "8658    14                 27.0       0  \n",
       "8626    14                 29.0       0  \n",
       "23062   14                 14.0       0  \n",
       "20965   14                  0.0       0  \n",
       "23090   14                 29.0       0  \n",
       "\n",
       "[27424 rows x 10 columns]"
      ]
     },
     "execution_count": 32,
     "metadata": {},
     "output_type": "execute_result"
    }
   ],
   "source": [
    "df_itog"
   ]
  },
  {
   "cell_type": "markdown",
   "id": "b05ae08a",
   "metadata": {},
   "source": [
    "Удалим колонку с датой, так как она нам больше не нужна"
   ]
  },
  {
   "cell_type": "code",
   "execution_count": 33,
   "id": "71ed19dd",
   "metadata": {},
   "outputs": [],
   "source": [
    "df_itog = df_itog.drop('date', axis = 1)"
   ]
  },
  {
   "cell_type": "markdown",
   "id": "58039b2e",
   "metadata": {},
   "source": [
    "Разделим итоговый датафрейм на 2:\n",
    "1. Итоговый датафрейм без января 2024 года\n",
    "2. Итоговый датафрейм, содержащий данные только о январе 2024 года"
   ]
  },
  {
   "cell_type": "code",
   "execution_count": 34,
   "id": "ce1fc51e",
   "metadata": {},
   "outputs": [],
   "source": [
    "df_without_jan24 = df_itog[((df_itog['year']<=2023)&(df_itog['month'] <= 12)) | (df_itog['year']>=2024)&(df_itog['month'] >= 2)]\n",
    "df_jan24 = df_itog[(df_itog['year']==2024)&(df_itog['month'] == 1)]"
   ]
  },
  {
   "cell_type": "markdown",
   "id": "1396d257",
   "metadata": {},
   "source": [
    "Проверим присутствуют ли в df_without_jan24 пустые значения"
   ]
  },
  {
   "cell_type": "code",
   "execution_count": 35,
   "id": "4d167574",
   "metadata": {},
   "outputs": [
    {
     "data": {
      "text/plain": [
       "item_id                   0\n",
       "promo_typeCode          553\n",
       "day_of_week               0\n",
       "qnty                   6313\n",
       "year                      0\n",
       "month                     0\n",
       "day                       0\n",
       "percent_of_discount       0\n",
       "is_hol                    0\n",
       "dtype: int64"
      ]
     },
     "execution_count": 35,
     "metadata": {},
     "output_type": "execute_result"
    }
   ],
   "source": [
    "df_without_jan24.isna().sum()"
   ]
  },
  {
   "cell_type": "markdown",
   "id": "a8505d59",
   "metadata": {},
   "source": [
    "Заполним пустые значения при помощи KNN импутера"
   ]
  },
  {
   "cell_type": "code",
   "execution_count": 36,
   "id": "247a1858",
   "metadata": {},
   "outputs": [],
   "source": [
    "imputer=KNNImputer(n_neighbors=300, weights = 'distance')\n",
    "imputer.fit(df_without_jan24)\n",
    "df_temp = imputer.transform(df_without_jan24)"
   ]
  },
  {
   "cell_type": "code",
   "execution_count": 37,
   "id": "8ebaf338",
   "metadata": {},
   "outputs": [],
   "source": [
    "df_without_jan24_temp = pd.DataFrame(df_temp, columns = df_without_jan24.columns)"
   ]
  },
  {
   "cell_type": "code",
   "execution_count": 38,
   "id": "0d2cc62a",
   "metadata": {},
   "outputs": [
    {
     "data": {
      "text/plain": [
       "item_id                0\n",
       "promo_typeCode         0\n",
       "day_of_week            0\n",
       "qnty                   0\n",
       "year                   0\n",
       "month                  0\n",
       "day                    0\n",
       "percent_of_discount    0\n",
       "is_hol                 0\n",
       "dtype: int64"
      ]
     },
     "execution_count": 38,
     "metadata": {},
     "output_type": "execute_result"
    }
   ],
   "source": [
    "df_without_jan24_temp.isna().sum()"
   ]
  },
  {
   "cell_type": "markdown",
   "id": "2dd85175",
   "metadata": {},
   "source": [
    "Округлим полученные значения в promo_typeCode, ведь вещественных типов акций не существует. Для этого была реализована функция, описанная ниже"
   ]
  },
  {
   "cell_type": "code",
   "execution_count": 39,
   "id": "e2a6b870",
   "metadata": {},
   "outputs": [],
   "source": [
    "def round_promo(df):\n",
    "    for i in range(df.shape[0]):\n",
    "        rounded_value = round((df['promo_typeCode'].values[i]), 0)\n",
    "        if rounded_value>= 1 and rounded_value < 2:\n",
    "            df['promo_typeCode'].values[i] = 1\n",
    "        elif rounded_value>= 2 and rounded_value < 5:\n",
    "            df['promo_typeCode'].values[i] = 2\n",
    "        elif rounded_value>= 5 and rounded_value < 6:\n",
    "            df['promo_typeCode'].values[i] = 5\n",
    "        elif rounded_value>= 6 and rounded_value < 7:\n",
    "            df['promo_typeCode'].values[i] = 6\n",
    "        elif rounded_value>= 7 and rounded_value < 8:\n",
    "            df['promo_typeCode'].values[i] = 7\n",
    "        elif rounded_value>= 8 and rounded_value < 10:\n",
    "            df['promo_typeCode'].values[i] = 8\n",
    "        elif rounded_value>= 10 and rounded_value < 16:\n",
    "            df['promo_typeCode'].values[i] = 10\n",
    "        elif rounded_value>= 16 and rounded_value < 23:\n",
    "            df['promo_typeCode'].values[i] = 16\n",
    "        elif rounded_value>= 23 and rounded_value < 44:\n",
    "            df['promo_typeCode'].values[i] = 23\n",
    "        elif rounded_value>= 44:\n",
    "            df['promo_typeCode'].values[i] = 44\n",
    "    return df"
   ]
  },
  {
   "cell_type": "code",
   "execution_count": 40,
   "id": "f1de0448",
   "metadata": {},
   "outputs": [
    {
     "data": {
      "text/html": [
       "<div>\n",
       "<style scoped>\n",
       "    .dataframe tbody tr th:only-of-type {\n",
       "        vertical-align: middle;\n",
       "    }\n",
       "\n",
       "    .dataframe tbody tr th {\n",
       "        vertical-align: top;\n",
       "    }\n",
       "\n",
       "    .dataframe thead th {\n",
       "        text-align: right;\n",
       "    }\n",
       "</style>\n",
       "<table border=\"1\" class=\"dataframe\">\n",
       "  <thead>\n",
       "    <tr style=\"text-align: right;\">\n",
       "      <th></th>\n",
       "      <th>item_id</th>\n",
       "      <th>promo_typeCode</th>\n",
       "      <th>day_of_week</th>\n",
       "      <th>qnty</th>\n",
       "      <th>year</th>\n",
       "      <th>month</th>\n",
       "      <th>day</th>\n",
       "      <th>percent_of_discount</th>\n",
       "      <th>is_hol</th>\n",
       "    </tr>\n",
       "  </thead>\n",
       "  <tbody>\n",
       "    <tr>\n",
       "      <th>0</th>\n",
       "      <td>100448.0</td>\n",
       "      <td>5.0</td>\n",
       "      <td>3.0</td>\n",
       "      <td>3.000000</td>\n",
       "      <td>2020.0</td>\n",
       "      <td>1.0</td>\n",
       "      <td>2.0</td>\n",
       "      <td>33.0</td>\n",
       "      <td>1.0</td>\n",
       "    </tr>\n",
       "    <tr>\n",
       "      <th>1</th>\n",
       "      <td>100638.0</td>\n",
       "      <td>5.0</td>\n",
       "      <td>3.0</td>\n",
       "      <td>49.000000</td>\n",
       "      <td>2020.0</td>\n",
       "      <td>1.0</td>\n",
       "      <td>2.0</td>\n",
       "      <td>40.0</td>\n",
       "      <td>1.0</td>\n",
       "    </tr>\n",
       "    <tr>\n",
       "      <th>2</th>\n",
       "      <td>100551.0</td>\n",
       "      <td>7.0</td>\n",
       "      <td>3.0</td>\n",
       "      <td>7.000000</td>\n",
       "      <td>2020.0</td>\n",
       "      <td>1.0</td>\n",
       "      <td>2.0</td>\n",
       "      <td>39.0</td>\n",
       "      <td>1.0</td>\n",
       "    </tr>\n",
       "    <tr>\n",
       "      <th>3</th>\n",
       "      <td>100386.0</td>\n",
       "      <td>6.0</td>\n",
       "      <td>3.0</td>\n",
       "      <td>3.007026</td>\n",
       "      <td>2020.0</td>\n",
       "      <td>1.0</td>\n",
       "      <td>2.0</td>\n",
       "      <td>24.0</td>\n",
       "      <td>1.0</td>\n",
       "    </tr>\n",
       "    <tr>\n",
       "      <th>4</th>\n",
       "      <td>100545.0</td>\n",
       "      <td>5.0</td>\n",
       "      <td>3.0</td>\n",
       "      <td>43.000000</td>\n",
       "      <td>2020.0</td>\n",
       "      <td>1.0</td>\n",
       "      <td>2.0</td>\n",
       "      <td>38.0</td>\n",
       "      <td>1.0</td>\n",
       "    </tr>\n",
       "    <tr>\n",
       "      <th>...</th>\n",
       "      <td>...</td>\n",
       "      <td>...</td>\n",
       "      <td>...</td>\n",
       "      <td>...</td>\n",
       "      <td>...</td>\n",
       "      <td>...</td>\n",
       "      <td>...</td>\n",
       "      <td>...</td>\n",
       "      <td>...</td>\n",
       "    </tr>\n",
       "    <tr>\n",
       "      <th>26879</th>\n",
       "      <td>100650.0</td>\n",
       "      <td>5.0</td>\n",
       "      <td>2.0</td>\n",
       "      <td>7.158522</td>\n",
       "      <td>2024.0</td>\n",
       "      <td>2.0</td>\n",
       "      <td>14.0</td>\n",
       "      <td>27.0</td>\n",
       "      <td>0.0</td>\n",
       "    </tr>\n",
       "    <tr>\n",
       "      <th>26880</th>\n",
       "      <td>100473.0</td>\n",
       "      <td>5.0</td>\n",
       "      <td>2.0</td>\n",
       "      <td>29.291766</td>\n",
       "      <td>2024.0</td>\n",
       "      <td>2.0</td>\n",
       "      <td>14.0</td>\n",
       "      <td>29.0</td>\n",
       "      <td>0.0</td>\n",
       "    </tr>\n",
       "    <tr>\n",
       "      <th>26881</th>\n",
       "      <td>100225.0</td>\n",
       "      <td>5.0</td>\n",
       "      <td>2.0</td>\n",
       "      <td>3.397810</td>\n",
       "      <td>2024.0</td>\n",
       "      <td>2.0</td>\n",
       "      <td>14.0</td>\n",
       "      <td>14.0</td>\n",
       "      <td>0.0</td>\n",
       "    </tr>\n",
       "    <tr>\n",
       "      <th>26882</th>\n",
       "      <td>100551.0</td>\n",
       "      <td>5.0</td>\n",
       "      <td>2.0</td>\n",
       "      <td>3.124487</td>\n",
       "      <td>2024.0</td>\n",
       "      <td>2.0</td>\n",
       "      <td>14.0</td>\n",
       "      <td>0.0</td>\n",
       "      <td>0.0</td>\n",
       "    </tr>\n",
       "    <tr>\n",
       "      <th>26883</th>\n",
       "      <td>100386.0</td>\n",
       "      <td>5.0</td>\n",
       "      <td>2.0</td>\n",
       "      <td>2.722192</td>\n",
       "      <td>2024.0</td>\n",
       "      <td>2.0</td>\n",
       "      <td>14.0</td>\n",
       "      <td>29.0</td>\n",
       "      <td>0.0</td>\n",
       "    </tr>\n",
       "  </tbody>\n",
       "</table>\n",
       "<p>26884 rows × 9 columns</p>\n",
       "</div>"
      ],
      "text/plain": [
       "        item_id  promo_typeCode  day_of_week       qnty    year  month   day  \\\n",
       "0      100448.0             5.0          3.0   3.000000  2020.0    1.0   2.0   \n",
       "1      100638.0             5.0          3.0  49.000000  2020.0    1.0   2.0   \n",
       "2      100551.0             7.0          3.0   7.000000  2020.0    1.0   2.0   \n",
       "3      100386.0             6.0          3.0   3.007026  2020.0    1.0   2.0   \n",
       "4      100545.0             5.0          3.0  43.000000  2020.0    1.0   2.0   \n",
       "...         ...             ...          ...        ...     ...    ...   ...   \n",
       "26879  100650.0             5.0          2.0   7.158522  2024.0    2.0  14.0   \n",
       "26880  100473.0             5.0          2.0  29.291766  2024.0    2.0  14.0   \n",
       "26881  100225.0             5.0          2.0   3.397810  2024.0    2.0  14.0   \n",
       "26882  100551.0             5.0          2.0   3.124487  2024.0    2.0  14.0   \n",
       "26883  100386.0             5.0          2.0   2.722192  2024.0    2.0  14.0   \n",
       "\n",
       "       percent_of_discount  is_hol  \n",
       "0                     33.0     1.0  \n",
       "1                     40.0     1.0  \n",
       "2                     39.0     1.0  \n",
       "3                     24.0     1.0  \n",
       "4                     38.0     1.0  \n",
       "...                    ...     ...  \n",
       "26879                 27.0     0.0  \n",
       "26880                 29.0     0.0  \n",
       "26881                 14.0     0.0  \n",
       "26882                  0.0     0.0  \n",
       "26883                 29.0     0.0  \n",
       "\n",
       "[26884 rows x 9 columns]"
      ]
     },
     "execution_count": 40,
     "metadata": {},
     "output_type": "execute_result"
    }
   ],
   "source": [
    "round_promo(df_without_jan24_temp)"
   ]
  },
  {
   "cell_type": "markdown",
   "id": "b762e985",
   "metadata": {},
   "source": [
    "Округлим qnty, так как нельзя продать не целое количество товаров"
   ]
  },
  {
   "cell_type": "code",
   "execution_count": 41,
   "id": "cf74768f",
   "metadata": {},
   "outputs": [],
   "source": [
    "df_without_jan24_temp.qnty = df_without_jan24_temp.qnty.round()"
   ]
  },
  {
   "cell_type": "code",
   "execution_count": 42,
   "id": "f7e2154f",
   "metadata": {},
   "outputs": [],
   "source": [
    "df_without_jan24 = df_without_jan24_temp"
   ]
  },
  {
   "cell_type": "markdown",
   "id": "af635719",
   "metadata": {},
   "source": [
    "Проверим присутстуют ли пустые значения среди признаков df_jan24, на qnty не смотрим, так как его в итоге нам надо будет предсказать"
   ]
  },
  {
   "cell_type": "code",
   "execution_count": 43,
   "id": "7d4beda0",
   "metadata": {},
   "outputs": [
    {
     "data": {
      "text/plain": [
       "item_id                  0\n",
       "promo_typeCode           0\n",
       "day_of_week              0\n",
       "qnty                   540\n",
       "year                     0\n",
       "month                    0\n",
       "day                      0\n",
       "percent_of_discount      0\n",
       "is_hol                   0\n",
       "dtype: int64"
      ]
     },
     "execution_count": 43,
     "metadata": {},
     "output_type": "execute_result"
    }
   ],
   "source": [
    "df_jan24.isna().sum()"
   ]
  },
  {
   "cell_type": "markdown",
   "id": "834c63d5",
   "metadata": {},
   "source": [
    "Проверим присутствуют ли выбросы в колонке df_without_jan24.qnty. Для этого построим ящик с усами"
   ]
  },
  {
   "cell_type": "code",
   "execution_count": 44,
   "id": "d17b112d",
   "metadata": {},
   "outputs": [
    {
     "data": {
      "image/png": "[encoded data removed]",
      "text/plain": [
       "<Figure size 1000x1600 with 1 Axes>"
      ]
     },
     "metadata": {},
     "output_type": "display_data"
    }
   ],
   "source": [
    "### Your code is here\n",
    "\n",
    "fig = plt.figure()\n",
    "\n",
    "fig.set_size_inches((10, 16))\n",
    "\n",
    "plt.boxplot(df_without_jan24['qnty'].values)\n",
    "\n",
    "plt.show()"
   ]
  },
  {
   "cell_type": "code",
   "execution_count": 45,
   "id": "4fa9adb3",
   "metadata": {
    "scrolled": true
   },
   "outputs": [
    {
     "data": {
      "text/plain": [
       "73.0"
      ]
     },
     "execution_count": 45,
     "metadata": {},
     "output_type": "execute_result"
    }
   ],
   "source": [
    "q_low = df_without_jan24['qnty'].quantile(0.25)\n",
    "q_high = df_without_jan24['qnty'].quantile(0.75)\n",
    "\n",
    "tentacle_length = q_high - q_low\n",
    "upper_tentacle = df_without_jan24['qnty'].quantile(0.995)\n",
    "upper_tentacle"
   ]
  },
  {
   "cell_type": "markdown",
   "id": "668a14ff",
   "metadata": {},
   "source": [
    "Выбросы присутвуют, поэтому удалилим все значения, которые больше 99.5% других"
   ]
  },
  {
   "cell_type": "code",
   "execution_count": 46,
   "id": "79d62e36",
   "metadata": {},
   "outputs": [],
   "source": [
    "df_without_jan24 = df_without_jan24[df_without_jan24['qnty']<upper_tentacle]"
   ]
  },
  {
   "cell_type": "markdown",
   "id": "7010cb2b",
   "metadata": {},
   "source": [
    "Посмотриим на корреляцию между признаками и таргетом тоже в df_without_jan24"
   ]
  },
  {
   "cell_type": "code",
   "execution_count": 47,
   "id": "e1f9b398",
   "metadata": {},
   "outputs": [
    {
     "data": {
      "text/plain": [
       "<AxesSubplot:>"
      ]
     },
     "execution_count": 47,
     "metadata": {},
     "output_type": "execute_result"
    },
    {
     "data": {
      "image/png": "[encoded data removed]",
      "text/plain": [
       "<Figure size 640x480 with 2 Axes>"
      ]
     },
     "metadata": {},
     "output_type": "display_data"
    }
   ],
   "source": [
    "corr = df_without_jan24.corr()\n",
    "sns.heatmap(corr, cmap=\"Blues\", annot=True)"
   ]
  },
  {
   "cell_type": "markdown",
   "id": "1a3712d0",
   "metadata": {},
   "source": [
    "Разобьем наши данные тестовые(январь 2024), валидационные(ноябрь и декабрь 2023) и тренировочные(2023(без декабря и ноября), 2022, 2021, 2020)"
   ]
  },
  {
   "cell_type": "code",
   "execution_count": 48,
   "id": "345ae4fd",
   "metadata": {},
   "outputs": [],
   "source": [
    "df_test = df_jan24[df_jan24['item_id'].isin(products_of_dec)]"
   ]
  },
  {
   "cell_type": "code",
   "execution_count": 49,
   "id": "41841492",
   "metadata": {},
   "outputs": [],
   "source": [
    "X_test = df_test.drop(['qnty'], axis = 1)"
   ]
  },
  {
   "cell_type": "code",
   "execution_count": 50,
   "id": "ebccd8d7",
   "metadata": {},
   "outputs": [
    {
     "data": {
      "text/html": [
       "<div>\n",
       "<style scoped>\n",
       "    .dataframe tbody tr th:only-of-type {\n",
       "        vertical-align: middle;\n",
       "    }\n",
       "\n",
       "    .dataframe tbody tr th {\n",
       "        vertical-align: top;\n",
       "    }\n",
       "\n",
       "    .dataframe thead th {\n",
       "        text-align: right;\n",
       "    }\n",
       "</style>\n",
       "<table border=\"1\" class=\"dataframe\">\n",
       "  <thead>\n",
       "    <tr style=\"text-align: right;\">\n",
       "      <th></th>\n",
       "      <th>item_id</th>\n",
       "      <th>promo_typeCode</th>\n",
       "      <th>day_of_week</th>\n",
       "      <th>year</th>\n",
       "      <th>month</th>\n",
       "      <th>day</th>\n",
       "      <th>percent_of_discount</th>\n",
       "      <th>is_hol</th>\n",
       "    </tr>\n",
       "  </thead>\n",
       "  <tbody>\n",
       "    <tr>\n",
       "      <th>12789</th>\n",
       "      <td>100165</td>\n",
       "      <td>5.0</td>\n",
       "      <td>0</td>\n",
       "      <td>2024</td>\n",
       "      <td>1</td>\n",
       "      <td>1</td>\n",
       "      <td>14.0</td>\n",
       "      <td>1</td>\n",
       "    </tr>\n",
       "    <tr>\n",
       "      <th>21770</th>\n",
       "      <td>100390</td>\n",
       "      <td>6.0</td>\n",
       "      <td>0</td>\n",
       "      <td>2024</td>\n",
       "      <td>1</td>\n",
       "      <td>1</td>\n",
       "      <td>29.0</td>\n",
       "      <td>1</td>\n",
       "    </tr>\n",
       "    <tr>\n",
       "      <th>22988</th>\n",
       "      <td>100596</td>\n",
       "      <td>6.0</td>\n",
       "      <td>0</td>\n",
       "      <td>2024</td>\n",
       "      <td>1</td>\n",
       "      <td>1</td>\n",
       "      <td>21.0</td>\n",
       "      <td>1</td>\n",
       "    </tr>\n",
       "    <tr>\n",
       "      <th>19486</th>\n",
       "      <td>100551</td>\n",
       "      <td>5.0</td>\n",
       "      <td>0</td>\n",
       "      <td>2024</td>\n",
       "      <td>1</td>\n",
       "      <td>1</td>\n",
       "      <td>0.0</td>\n",
       "      <td>1</td>\n",
       "    </tr>\n",
       "    <tr>\n",
       "      <th>19503</th>\n",
       "      <td>100516</td>\n",
       "      <td>5.0</td>\n",
       "      <td>0</td>\n",
       "      <td>2024</td>\n",
       "      <td>1</td>\n",
       "      <td>1</td>\n",
       "      <td>0.0</td>\n",
       "      <td>1</td>\n",
       "    </tr>\n",
       "    <tr>\n",
       "      <th>...</th>\n",
       "      <td>...</td>\n",
       "      <td>...</td>\n",
       "      <td>...</td>\n",
       "      <td>...</td>\n",
       "      <td>...</td>\n",
       "      <td>...</td>\n",
       "      <td>...</td>\n",
       "      <td>...</td>\n",
       "    </tr>\n",
       "    <tr>\n",
       "      <th>12455</th>\n",
       "      <td>100651</td>\n",
       "      <td>6.0</td>\n",
       "      <td>2</td>\n",
       "      <td>2024</td>\n",
       "      <td>1</td>\n",
       "      <td>31</td>\n",
       "      <td>30.0</td>\n",
       "      <td>0</td>\n",
       "    </tr>\n",
       "    <tr>\n",
       "      <th>8580</th>\n",
       "      <td>100470</td>\n",
       "      <td>5.0</td>\n",
       "      <td>2</td>\n",
       "      <td>2024</td>\n",
       "      <td>1</td>\n",
       "      <td>31</td>\n",
       "      <td>29.0</td>\n",
       "      <td>0</td>\n",
       "    </tr>\n",
       "    <tr>\n",
       "      <th>25273</th>\n",
       "      <td>100664</td>\n",
       "      <td>5.0</td>\n",
       "      <td>2</td>\n",
       "      <td>2024</td>\n",
       "      <td>1</td>\n",
       "      <td>31</td>\n",
       "      <td>27.0</td>\n",
       "      <td>0</td>\n",
       "    </tr>\n",
       "    <tr>\n",
       "      <th>25971</th>\n",
       "      <td>100126</td>\n",
       "      <td>5.0</td>\n",
       "      <td>2</td>\n",
       "      <td>2024</td>\n",
       "      <td>1</td>\n",
       "      <td>31</td>\n",
       "      <td>2.0</td>\n",
       "      <td>0</td>\n",
       "    </tr>\n",
       "    <tr>\n",
       "      <th>11609</th>\n",
       "      <td>100517</td>\n",
       "      <td>44.0</td>\n",
       "      <td>2</td>\n",
       "      <td>2024</td>\n",
       "      <td>1</td>\n",
       "      <td>31</td>\n",
       "      <td>29.0</td>\n",
       "      <td>0</td>\n",
       "    </tr>\n",
       "  </tbody>\n",
       "</table>\n",
       "<p>526 rows × 8 columns</p>\n",
       "</div>"
      ],
      "text/plain": [
       "       item_id  promo_typeCode  day_of_week  year  month  day  \\\n",
       "12789   100165             5.0            0  2024      1    1   \n",
       "21770   100390             6.0            0  2024      1    1   \n",
       "22988   100596             6.0            0  2024      1    1   \n",
       "19486   100551             5.0            0  2024      1    1   \n",
       "19503   100516             5.0            0  2024      1    1   \n",
       "...        ...             ...          ...   ...    ...  ...   \n",
       "12455   100651             6.0            2  2024      1   31   \n",
       "8580    100470             5.0            2  2024      1   31   \n",
       "25273   100664             5.0            2  2024      1   31   \n",
       "25971   100126             5.0            2  2024      1   31   \n",
       "11609   100517            44.0            2  2024      1   31   \n",
       "\n",
       "       percent_of_discount  is_hol  \n",
       "12789                 14.0       1  \n",
       "21770                 29.0       1  \n",
       "22988                 21.0       1  \n",
       "19486                  0.0       1  \n",
       "19503                  0.0       1  \n",
       "...                    ...     ...  \n",
       "12455                 30.0       0  \n",
       "8580                  29.0       0  \n",
       "25273                 27.0       0  \n",
       "25971                  2.0       0  \n",
       "11609                 29.0       0  \n",
       "\n",
       "[526 rows x 8 columns]"
      ]
     },
     "execution_count": 50,
     "metadata": {},
     "output_type": "execute_result"
    }
   ],
   "source": [
    "X_test"
   ]
  },
  {
   "cell_type": "code",
   "execution_count": 51,
   "id": "bafa1413",
   "metadata": {},
   "outputs": [],
   "source": [
    "valid_df = df_without_jan24[(df_without_jan24['year'] == 2023) & (df_without_jan24['month'] > 10)]"
   ]
  },
  {
   "cell_type": "code",
   "execution_count": 52,
   "id": "d1861ac5",
   "metadata": {},
   "outputs": [
    {
     "data": {
      "text/plain": [
       "array([2020., 2021., 2022., 2023., 2024.])"
      ]
     },
     "execution_count": 52,
     "metadata": {},
     "output_type": "execute_result"
    }
   ],
   "source": [
    "df_without_jan24.year.unique()"
   ]
  },
  {
   "cell_type": "code",
   "execution_count": 53,
   "id": "d74dac3a",
   "metadata": {},
   "outputs": [],
   "source": [
    "train_df = df_without_jan24[((df_without_jan24['year'] == 2023) & (df_without_jan24['month'] <= 10)) | (df_without_jan24['year'] == 2022) | (df_without_jan24['year'] == 2021) | (df_without_jan24['year'] == 2020)]"
   ]
  },
  {
   "cell_type": "code",
   "execution_count": 54,
   "id": "b900846a",
   "metadata": {},
   "outputs": [],
   "source": [
    "X_train = train_df.drop('qnty', axis = 1)\n",
    "y_train = train_df['qnty']"
   ]
  },
  {
   "cell_type": "code",
   "execution_count": 55,
   "id": "db69e0ca",
   "metadata": {},
   "outputs": [],
   "source": [
    "X_valid = valid_df.drop('qnty', axis = 1)\n",
    "y_valid = valid_df['qnty']"
   ]
  },
  {
   "cell_type": "markdown",
   "id": "c1b46588",
   "metadata": {},
   "source": [
    "Построим LinearRegression и сравним его со средним y_valid"
   ]
  },
  {
   "cell_type": "code",
   "execution_count": 56,
   "id": "e4b340fe",
   "metadata": {},
   "outputs": [],
   "source": [
    "model = LinearRegression().fit(X_train, y_train)"
   ]
  },
  {
   "cell_type": "code",
   "execution_count": 57,
   "id": "6c3f2abe",
   "metadata": {},
   "outputs": [
    {
     "data": {
      "text/plain": [
       "7.6595310907237515"
      ]
     },
     "execution_count": 57,
     "metadata": {},
     "output_type": "execute_result"
    }
   ],
   "source": [
    "y_valid.mean()"
   ]
  },
  {
   "cell_type": "code",
   "execution_count": 58,
   "id": "23836f03",
   "metadata": {},
   "outputs": [
    {
     "data": {
      "text/plain": [
       "9.418512503594103"
      ]
     },
     "execution_count": 58,
     "metadata": {},
     "output_type": "execute_result"
    }
   ],
   "source": [
    "mean_squared_error(y_valid, model.predict(X_valid), squared=False)"
   ]
  },
  {
   "cell_type": "markdown",
   "id": "791ad727",
   "metadata": {},
   "source": [
    "Построим KNeighborsRegressor, подберем для него лучшее количество соседей при помощи optuna и сравним его со средним y_valid"
   ]
  },
  {
   "cell_type": "code",
   "execution_count": 59,
   "id": "8af26632",
   "metadata": {},
   "outputs": [
    {
     "data": {
      "text/plain": [
       "KNeighborsRegressor(n_neighbors=24, weights='distance')"
      ]
     },
     "execution_count": 59,
     "metadata": {},
     "output_type": "execute_result"
    }
   ],
   "source": [
    "neigh = KNeighborsRegressor(n_neighbors=24, weights='distance')\n",
    "neigh.fit(X_train, y_train)"
   ]
  },
  {
   "cell_type": "code",
   "execution_count": 60,
   "id": "6e7f2e14",
   "metadata": {},
   "outputs": [
    {
     "data": {
      "text/plain": [
       "7.652291360167769"
      ]
     },
     "execution_count": 60,
     "metadata": {},
     "output_type": "execute_result"
    }
   ],
   "source": [
    "mean_squared_error(y_valid, neigh.predict(X_valid), squared=False)"
   ]
  },
  {
   "cell_type": "code",
   "execution_count": 63,
   "id": "5e49cdba",
   "metadata": {},
   "outputs": [
    {
     "name": "stderr",
     "output_type": "stream",
     "text": [
      "[I 2024-03-25 13:35:30,741] A new study created in memory with name: no-name-ee12edcf-b455-4a06-8fa8-1e33af3152e8\n",
      "[I 2024-03-25 13:35:30,842] Trial 0 finished with value: 7.758472780722001 and parameters: {'n_neighbors': 68}. Best is trial 0 with value: 7.758472780722001.\n",
      "[I 2024-03-25 13:35:30,971] Trial 1 finished with value: 7.7168461523362115 and parameters: {'n_neighbors': 38}. Best is trial 1 with value: 7.7168461523362115.\n",
      "[I 2024-03-25 13:35:31,054] Trial 2 finished with value: 7.960818119839092 and parameters: {'n_neighbors': 9}. Best is trial 1 with value: 7.7168461523362115.\n",
      "[I 2024-03-25 13:35:31,162] Trial 3 finished with value: 7.749161185609477 and parameters: {'n_neighbors': 70}. Best is trial 1 with value: 7.7168461523362115.\n",
      "[I 2024-03-25 13:35:31,287] Trial 4 finished with value: 7.731851409448228 and parameters: {'n_neighbors': 53}. Best is trial 1 with value: 7.7168461523362115.\n",
      "[I 2024-03-25 13:35:31,363] Trial 5 finished with value: 8.473760146638094 and parameters: {'n_neighbors': 6}. Best is trial 1 with value: 7.7168461523362115.\n",
      "[I 2024-03-25 13:35:31,470] Trial 6 finished with value: 7.704334457168374 and parameters: {'n_neighbors': 39}. Best is trial 6 with value: 7.704334457168374.\n",
      "[I 2024-03-25 13:35:31,575] Trial 7 finished with value: 7.753353772733294 and parameters: {'n_neighbors': 67}. Best is trial 6 with value: 7.704334457168374.\n",
      "[I 2024-03-25 13:35:31,664] Trial 8 finished with value: 7.665807781887246 and parameters: {'n_neighbors': 33}. Best is trial 8 with value: 7.665807781887246.\n",
      "[I 2024-03-25 13:35:31,788] Trial 9 finished with value: 7.889952247549161 and parameters: {'n_neighbors': 100}. Best is trial 8 with value: 7.665807781887246.\n",
      "[I 2024-03-25 13:35:31,879] Trial 10 finished with value: 7.657070691947595 and parameters: {'n_neighbors': 23}. Best is trial 10 with value: 7.657070691947595.\n",
      "[I 2024-03-25 13:35:31,990] Trial 11 finished with value: 7.652291360167769 and parameters: {'n_neighbors': 24}. Best is trial 11 with value: 7.652291360167769.\n",
      "[I 2024-03-25 13:35:32,104] Trial 12 finished with value: 7.652291360167769 and parameters: {'n_neighbors': 24}. Best is trial 11 with value: 7.652291360167769.\n",
      "[I 2024-03-25 13:35:32,203] Trial 13 finished with value: 7.684697797853289 and parameters: {'n_neighbors': 20}. Best is trial 11 with value: 7.652291360167769.\n",
      "[I 2024-03-25 13:35:32,290] Trial 14 finished with value: 7.669334821990703 and parameters: {'n_neighbors': 22}. Best is trial 11 with value: 7.652291360167769.\n",
      "[I 2024-03-25 13:35:32,390] Trial 15 finished with value: 7.718639293152728 and parameters: {'n_neighbors': 55}. Best is trial 11 with value: 7.652291360167769.\n",
      "[I 2024-03-25 13:35:32,500] Trial 16 finished with value: 7.752158452603952 and parameters: {'n_neighbors': 16}. Best is trial 11 with value: 7.652291360167769.\n",
      "[I 2024-03-25 13:35:32,623] Trial 17 finished with value: 7.670657759886588 and parameters: {'n_neighbors': 32}. Best is trial 11 with value: 7.652291360167769.\n",
      "[I 2024-03-25 13:35:32,739] Trial 18 finished with value: 7.741138069245189 and parameters: {'n_neighbors': 44}. Best is trial 11 with value: 7.652291360167769.\n",
      "[I 2024-03-25 13:35:32,877] Trial 19 finished with value: 7.889952247549161 and parameters: {'n_neighbors': 100}. Best is trial 11 with value: 7.652291360167769.\n",
      "[I 2024-03-25 13:35:32,970] Trial 20 finished with value: 9.841884264398994 and parameters: {'n_neighbors': 2}. Best is trial 11 with value: 7.652291360167769.\n",
      "[I 2024-03-25 13:35:33,097] Trial 21 finished with value: 7.652291360167769 and parameters: {'n_neighbors': 24}. Best is trial 11 with value: 7.652291360167769.\n",
      "[I 2024-03-25 13:35:33,191] Trial 22 finished with value: 7.659179671709878 and parameters: {'n_neighbors': 30}. Best is trial 11 with value: 7.652291360167769.\n",
      "[I 2024-03-25 13:35:33,307] Trial 23 finished with value: 7.855550952197499 and parameters: {'n_neighbors': 11}. Best is trial 11 with value: 7.652291360167769.\n",
      "[I 2024-03-25 13:35:33,432] Trial 24 finished with value: 7.659204677884537 and parameters: {'n_neighbors': 25}. Best is trial 11 with value: 7.652291360167769.\n",
      "[I 2024-03-25 13:35:33,547] Trial 25 finished with value: 7.720326656864375 and parameters: {'n_neighbors': 48}. Best is trial 11 with value: 7.652291360167769.\n",
      "[I 2024-03-25 13:35:33,646] Trial 26 finished with value: 7.851380038908125 and parameters: {'n_neighbors': 13}. Best is trial 11 with value: 7.652291360167769.\n",
      "[I 2024-03-25 13:35:33,757] Trial 27 finished with value: 7.729444121840836 and parameters: {'n_neighbors': 61}. Best is trial 11 with value: 7.652291360167769.\n",
      "[I 2024-03-25 13:35:33,887] Trial 28 finished with value: 7.809898851475826 and parameters: {'n_neighbors': 81}. Best is trial 11 with value: 7.652291360167769.\n",
      "[I 2024-03-25 13:35:33,993] Trial 29 finished with value: 7.657858877560427 and parameters: {'n_neighbors': 28}. Best is trial 11 with value: 7.652291360167769.\n",
      "[I 2024-03-25 13:35:34,084] Trial 30 finished with value: 7.704334457168374 and parameters: {'n_neighbors': 39}. Best is trial 11 with value: 7.652291360167769.\n",
      "[I 2024-03-25 13:35:34,193] Trial 31 finished with value: 7.762204725556833 and parameters: {'n_neighbors': 17}. Best is trial 11 with value: 7.652291360167769.\n",
      "[I 2024-03-25 13:35:34,299] Trial 32 finished with value: 7.6817236798508866 and parameters: {'n_neighbors': 21}. Best is trial 11 with value: 7.652291360167769.\n",
      "[I 2024-03-25 13:35:34,410] Trial 33 finished with value: 7.705784529786833 and parameters: {'n_neighbors': 35}. Best is trial 11 with value: 7.652291360167769.\n",
      "[I 2024-03-25 13:35:34,525] Trial 34 finished with value: 7.6608001386763185 and parameters: {'n_neighbors': 26}. Best is trial 11 with value: 7.652291360167769.\n",
      "[I 2024-03-25 13:35:34,655] Trial 35 finished with value: 7.736194616693837 and parameters: {'n_neighbors': 43}. Best is trial 11 with value: 7.652291360167769.\n",
      "[I 2024-03-25 13:35:34,746] Trial 36 finished with value: 8.236872117889042 and parameters: {'n_neighbors': 7}. Best is trial 11 with value: 7.652291360167769.\n",
      "[I 2024-03-25 13:35:34,849] Trial 37 finished with value: 7.801374212269608 and parameters: {'n_neighbors': 15}. Best is trial 11 with value: 7.652291360167769.\n",
      "[I 2024-03-25 13:35:34,952] Trial 38 finished with value: 7.659204677884537 and parameters: {'n_neighbors': 25}. Best is trial 11 with value: 7.652291360167769.\n",
      "[I 2024-03-25 13:35:35,031] Trial 39 finished with value: 9.841884264398994 and parameters: {'n_neighbors': 2}. Best is trial 11 with value: 7.652291360167769.\n",
      "[I 2024-03-25 13:35:35,131] Trial 40 finished with value: 7.705784529786833 and parameters: {'n_neighbors': 35}. Best is trial 11 with value: 7.652291360167769.\n",
      "[I 2024-03-25 13:35:35,243] Trial 41 finished with value: 7.654897566863529 and parameters: {'n_neighbors': 29}. Best is trial 11 with value: 7.652291360167769.\n",
      "[I 2024-03-25 13:35:35,345] Trial 42 finished with value: 7.6817236798508866 and parameters: {'n_neighbors': 21}. Best is trial 11 with value: 7.652291360167769.\n",
      "[I 2024-03-25 13:35:35,460] Trial 43 finished with value: 7.7131507564375505 and parameters: {'n_neighbors': 40}. Best is trial 11 with value: 7.652291360167769.\n",
      "[I 2024-03-25 13:35:35,573] Trial 44 finished with value: 7.659179671709878 and parameters: {'n_neighbors': 30}. Best is trial 11 with value: 7.652291360167769.\n",
      "[I 2024-03-25 13:35:35,670] Trial 45 finished with value: 7.855550952197499 and parameters: {'n_neighbors': 11}. Best is trial 11 with value: 7.652291360167769.\n",
      "[I 2024-03-25 13:35:35,786] Trial 46 finished with value: 7.738651404886835 and parameters: {'n_neighbors': 18}. Best is trial 11 with value: 7.652291360167769.\n",
      "[I 2024-03-25 13:35:35,885] Trial 47 finished with value: 7.652291360167769 and parameters: {'n_neighbors': 24}. Best is trial 11 with value: 7.652291360167769.\n",
      "[I 2024-03-25 13:35:36,002] Trial 48 finished with value: 7.705784529786833 and parameters: {'n_neighbors': 35}. Best is trial 11 with value: 7.652291360167769.\n",
      "[I 2024-03-25 13:35:36,118] Trial 49 finished with value: 7.722633520236553 and parameters: {'n_neighbors': 49}. Best is trial 11 with value: 7.652291360167769.\n",
      "[I 2024-03-25 13:35:36,227] Trial 50 finished with value: 7.657858877560427 and parameters: {'n_neighbors': 28}. Best is trial 11 with value: 7.652291360167769.\n"
     ]
    },
    {
     "name": "stderr",
     "output_type": "stream",
     "text": [
      "[I 2024-03-25 13:35:36,352] Trial 51 finished with value: 7.657070691947595 and parameters: {'n_neighbors': 23}. Best is trial 11 with value: 7.652291360167769.\n",
      "[I 2024-03-25 13:35:36,430] Trial 52 finished with value: 7.738651404886835 and parameters: {'n_neighbors': 18}. Best is trial 11 with value: 7.652291360167769.\n",
      "[I 2024-03-25 13:35:36,551] Trial 53 finished with value: 7.670657759886588 and parameters: {'n_neighbors': 32}. Best is trial 11 with value: 7.652291360167769.\n",
      "[I 2024-03-25 13:35:36,630] Trial 54 finished with value: 8.236872117889042 and parameters: {'n_neighbors': 7}. Best is trial 11 with value: 7.652291360167769.\n",
      "[I 2024-03-25 13:35:36,767] Trial 55 finished with value: 7.819355025930332 and parameters: {'n_neighbors': 83}. Best is trial 11 with value: 7.652291360167769.\n",
      "[I 2024-03-25 13:35:36,889] Trial 56 finished with value: 7.827047936031887 and parameters: {'n_neighbors': 14}. Best is trial 11 with value: 7.652291360167769.\n",
      "[I 2024-03-25 13:35:36,996] Trial 57 finished with value: 7.652291360167769 and parameters: {'n_neighbors': 24}. Best is trial 11 with value: 7.652291360167769.\n",
      "[I 2024-03-25 13:35:37,104] Trial 58 finished with value: 7.6608001386763185 and parameters: {'n_neighbors': 26}. Best is trial 11 with value: 7.652291360167769.\n",
      "[I 2024-03-25 13:35:37,221] Trial 59 finished with value: 7.736194616693837 and parameters: {'n_neighbors': 43}. Best is trial 11 with value: 7.652291360167769.\n",
      "[I 2024-03-25 13:35:37,337] Trial 60 finished with value: 7.894846532970602 and parameters: {'n_neighbors': 10}. Best is trial 11 with value: 7.652291360167769.\n",
      "[I 2024-03-25 13:35:37,445] Trial 61 finished with value: 7.657070691947595 and parameters: {'n_neighbors': 23}. Best is trial 11 with value: 7.652291360167769.\n",
      "[I 2024-03-25 13:35:37,555] Trial 62 finished with value: 7.659179671709878 and parameters: {'n_neighbors': 30}. Best is trial 11 with value: 7.652291360167769.\n",
      "[I 2024-03-25 13:35:37,647] Trial 63 finished with value: 7.714315199081155 and parameters: {'n_neighbors': 19}. Best is trial 11 with value: 7.652291360167769.\n",
      "[I 2024-03-25 13:35:37,739] Trial 64 finished with value: 7.669334821990703 and parameters: {'n_neighbors': 22}. Best is trial 11 with value: 7.652291360167769.\n",
      "[I 2024-03-25 13:35:37,886] Trial 65 finished with value: 7.657858877560427 and parameters: {'n_neighbors': 28}. Best is trial 11 with value: 7.652291360167769.\n",
      "[I 2024-03-25 13:35:38,011] Trial 66 finished with value: 7.73076858535724 and parameters: {'n_neighbors': 56}. Best is trial 11 with value: 7.652291360167769.\n",
      "[I 2024-03-25 13:35:38,114] Trial 67 finished with value: 7.827047936031887 and parameters: {'n_neighbors': 14}. Best is trial 11 with value: 7.652291360167769.\n",
      "[I 2024-03-25 13:35:38,238] Trial 68 finished with value: 7.665807781887246 and parameters: {'n_neighbors': 33}. Best is trial 11 with value: 7.652291360167769.\n",
      "[I 2024-03-25 13:35:38,332] Trial 69 finished with value: 7.7168461523362115 and parameters: {'n_neighbors': 38}. Best is trial 11 with value: 7.652291360167769.\n",
      "[I 2024-03-25 13:35:38,454] Trial 70 finished with value: 7.6608001386763185 and parameters: {'n_neighbors': 26}. Best is trial 11 with value: 7.652291360167769.\n",
      "[I 2024-03-25 13:35:38,590] Trial 71 finished with value: 7.652291360167769 and parameters: {'n_neighbors': 24}. Best is trial 11 with value: 7.652291360167769.\n",
      "[I 2024-03-25 13:35:38,721] Trial 72 finished with value: 7.684697797853289 and parameters: {'n_neighbors': 20}. Best is trial 11 with value: 7.652291360167769.\n",
      "[I 2024-03-25 13:35:38,822] Trial 73 finished with value: 7.652291360167769 and parameters: {'n_neighbors': 24}. Best is trial 11 with value: 7.652291360167769.\n",
      "[I 2024-03-25 13:35:38,931] Trial 74 finished with value: 7.652291360167769 and parameters: {'n_neighbors': 24}. Best is trial 11 with value: 7.652291360167769.\n",
      "[I 2024-03-25 13:35:39,031] Trial 75 finished with value: 7.652291360167769 and parameters: {'n_neighbors': 24}. Best is trial 11 with value: 7.652291360167769.\n",
      "[I 2024-03-25 13:35:39,141] Trial 76 finished with value: 7.711465080998769 and parameters: {'n_neighbors': 37}. Best is trial 11 with value: 7.652291360167769.\n",
      "[I 2024-03-25 13:35:39,257] Trial 77 finished with value: 7.752158452603952 and parameters: {'n_neighbors': 16}. Best is trial 11 with value: 7.652291360167769.\n",
      "[I 2024-03-25 13:35:39,375] Trial 78 finished with value: 7.842132782465456 and parameters: {'n_neighbors': 12}. Best is trial 11 with value: 7.652291360167769.\n",
      "[I 2024-03-25 13:35:39,507] Trial 79 finished with value: 7.670657759886588 and parameters: {'n_neighbors': 32}. Best is trial 11 with value: 7.652291360167769.\n",
      "[I 2024-03-25 13:35:39,593] Trial 80 finished with value: 8.551795471754792 and parameters: {'n_neighbors': 5}. Best is trial 11 with value: 7.652291360167769.\n",
      "[I 2024-03-25 13:35:39,707] Trial 81 finished with value: 7.657070691947595 and parameters: {'n_neighbors': 23}. Best is trial 11 with value: 7.652291360167769.\n",
      "[I 2024-03-25 13:35:39,825] Trial 82 finished with value: 7.674506788563974 and parameters: {'n_neighbors': 27}. Best is trial 11 with value: 7.652291360167769.\n",
      "[I 2024-03-25 13:35:39,934] Trial 83 finished with value: 7.652291360167769 and parameters: {'n_neighbors': 24}. Best is trial 11 with value: 7.652291360167769.\n",
      "[I 2024-03-25 13:35:40,051] Trial 84 finished with value: 7.684697797853289 and parameters: {'n_neighbors': 20}. Best is trial 11 with value: 7.652291360167769.\n",
      "[I 2024-03-25 13:35:40,165] Trial 85 finished with value: 7.672196627413615 and parameters: {'n_neighbors': 31}. Best is trial 11 with value: 7.652291360167769.\n",
      "[I 2024-03-25 13:35:40,269] Trial 86 finished with value: 7.752158452603952 and parameters: {'n_neighbors': 16}. Best is trial 11 with value: 7.652291360167769.\n",
      "[I 2024-03-25 13:35:40,378] Trial 87 finished with value: 7.659204677884537 and parameters: {'n_neighbors': 25}. Best is trial 11 with value: 7.652291360167769.\n",
      "[I 2024-03-25 13:35:40,473] Trial 88 finished with value: 7.714315199081155 and parameters: {'n_neighbors': 19}. Best is trial 11 with value: 7.652291360167769.\n",
      "[I 2024-03-25 13:35:40,576] Trial 89 finished with value: 7.705784529786833 and parameters: {'n_neighbors': 35}. Best is trial 11 with value: 7.652291360167769.\n"
     ]
    }
   ],
   "source": [
    "def objective(trial):\n",
    "    n_neighbors = trial.suggest_int(\"n_neighbors\", 2, 100)\n",
    "    neigh = KNeighborsRegressor(n_neighbors=n_neighbors, weights='distance')\n",
    "    neigh.fit(X_train, y_train)\n",
    "    return mean_squared_error(y_valid, neigh.predict(X_valid), squared=False)\n",
    "\n",
    "\n",
    "study = optuna.create_study(direction=\"minimize\")\n",
    "study.optimize(objective, n_trials=90)"
   ]
  },
  {
   "cell_type": "code",
   "execution_count": 72,
   "id": "92c4b076",
   "metadata": {},
   "outputs": [
    {
     "data": {
      "text/plain": [
       "{'n_neighbors': 24}"
      ]
     },
     "execution_count": 72,
     "metadata": {},
     "output_type": "execute_result"
    }
   ],
   "source": [
    "study.best_params"
   ]
  },
  {
   "cell_type": "markdown",
   "id": "b153dda3",
   "metadata": {},
   "source": [
    "Построим LGBMRegressor, подберем для него гиперпараметры при помощи optuna и сравним его со средним y_valid"
   ]
  },
  {
   "cell_type": "code",
   "execution_count": 82,
   "id": "a1546613",
   "metadata": {},
   "outputs": [],
   "source": [
    "def objective(trial):\n",
    "    params = {\n",
    "        \"objective\": \"regression\",\n",
    "        \"metric\": \"rmse\",\n",
    "        \"boosting_type\": \"dart\",\n",
    "        \"n_estimators\": trial.suggest_int(\"n_estimators\", 900, 1550),\n",
    "        \"max_depth\": trial.suggest_int(\"max_depth\", 1800, 2500),\n",
    "        \"verbosity\": -1,\n",
    "        \"bagging_freq\": 1,\n",
    "        \"learning_rate\": trial.suggest_float(\"learning_rate\", 0.01, 0.03, log=True),\n",
    "        \"num_leaves\": trial.suggest_int(\"num_leaves\", 200, 400),\n",
    "        \"subsample\": trial.suggest_float(\"subsample\", 0.6, 0.9),\n",
    "        \"colsample_bytree\": trial.suggest_float(\"colsample_bytree\", 0.4, 0.7),\n",
    "        \"reg_lambda\": trial.suggest_float(\"reg_lambda\", 0.01, 0.5),\n",
    "        \"min_data_in_leaf\": trial.suggest_int(\"min_data_in_leaf\", 1, 100)\n",
    "        \n",
    "    }\n",
    "\n",
    "    model1 = lgb.LGBMRegressor(**params)\n",
    "    model1.fit(X_train, y_train)\n",
    "    predictions = model1.predict(X_valid)\n",
    "    rmse = mean_squared_error(y_valid, predictions, squared=False)\n",
    "    return rmse"
   ]
  },
  {
   "cell_type": "code",
   "execution_count": 83,
   "id": "0c170a49",
   "metadata": {
    "scrolled": true
   },
   "outputs": [
    {
     "name": "stderr",
     "output_type": "stream",
     "text": [
      "[I 2024-03-25 19:58:03,726] A new study created in memory with name: no-name-4771b34a-9cc7-4acc-aa2a-fe2fef4ad576\n",
      "[I 2024-03-25 19:58:32,658] Trial 0 finished with value: 6.768478783287903 and parameters: {'n_estimators': 909, 'max_depth': 1902, 'learning_rate': 0.011412755175028702, 'num_leaves': 377, 'subsample': 0.8455906148640597, 'colsample_bytree': 0.470550340649593, 'reg_lambda': 0.10380302151403285, 'min_data_in_leaf': 35}. Best is trial 0 with value: 6.768478783287903.\n",
      "[I 2024-03-25 19:58:58,219] Trial 1 finished with value: 6.6791708789099875 and parameters: {'n_estimators': 1026, 'max_depth': 2349, 'learning_rate': 0.017399977556180564, 'num_leaves': 319, 'subsample': 0.7990362950179009, 'colsample_bytree': 0.4587365012945875, 'reg_lambda': 0.012956601871831576, 'min_data_in_leaf': 95}. Best is trial 1 with value: 6.6791708789099875.\n",
      "[I 2024-03-25 19:59:26,608] Trial 2 finished with value: 6.766003774671938 and parameters: {'n_estimators': 1017, 'max_depth': 2043, 'learning_rate': 0.02576970425204842, 'num_leaves': 381, 'subsample': 0.7933401183197997, 'colsample_bytree': 0.6947690846195869, 'reg_lambda': 0.01913354473054476, 'min_data_in_leaf': 77}. Best is trial 1 with value: 6.6791708789099875.\n",
      "[I 2024-03-25 19:59:51,670] Trial 3 finished with value: 6.725538480742584 and parameters: {'n_estimators': 1008, 'max_depth': 2226, 'learning_rate': 0.025025786095480347, 'num_leaves': 349, 'subsample': 0.6437421815383443, 'colsample_bytree': 0.5202427339052097, 'reg_lambda': 0.45872011646718697, 'min_data_in_leaf': 77}. Best is trial 1 with value: 6.6791708789099875.\n",
      "[I 2024-03-25 20:00:24,639] Trial 4 finished with value: 6.5395244348864505 and parameters: {'n_estimators': 1232, 'max_depth': 1824, 'learning_rate': 0.024375967016451075, 'num_leaves': 248, 'subsample': 0.898425574584488, 'colsample_bytree': 0.42884665514430875, 'reg_lambda': 0.3183771098630254, 'min_data_in_leaf': 20}. Best is trial 4 with value: 6.5395244348864505.\n",
      "[I 2024-03-25 20:01:08,077] Trial 5 finished with value: 6.59113952737718 and parameters: {'n_estimators': 1502, 'max_depth': 2223, 'learning_rate': 0.010762324173923579, 'num_leaves': 222, 'subsample': 0.8663198694450485, 'colsample_bytree': 0.6551530614889123, 'reg_lambda': 0.2551818121653259, 'min_data_in_leaf': 23}. Best is trial 4 with value: 6.5395244348864505.\n",
      "[I 2024-03-25 20:01:49,495] Trial 6 finished with value: 6.717878629382756 and parameters: {'n_estimators': 1276, 'max_depth': 1831, 'learning_rate': 0.010771716933038241, 'num_leaves': 294, 'subsample': 0.8744311827635232, 'colsample_bytree': 0.47487409735014086, 'reg_lambda': 0.3910432021221857, 'min_data_in_leaf': 38}. Best is trial 4 with value: 6.5395244348864505.\n",
      "[I 2024-03-25 20:02:26,481] Trial 7 finished with value: 6.6878028988267575 and parameters: {'n_estimators': 1337, 'max_depth': 2213, 'learning_rate': 0.018293746185301597, 'num_leaves': 248, 'subsample': 0.8812776570174965, 'colsample_bytree': 0.4235500078750813, 'reg_lambda': 0.3359174175200554, 'min_data_in_leaf': 57}. Best is trial 4 with value: 6.5395244348864505.\n",
      "[I 2024-03-25 20:02:52,577] Trial 8 finished with value: 6.550931201916163 and parameters: {'n_estimators': 904, 'max_depth': 2129, 'learning_rate': 0.02113024573873373, 'num_leaves': 362, 'subsample': 0.83594931690623, 'colsample_bytree': 0.5705489458268753, 'reg_lambda': 0.26098392480156674, 'min_data_in_leaf': 57}. Best is trial 4 with value: 6.5395244348864505.\n",
      "[I 2024-03-25 20:03:47,839] Trial 9 finished with value: 6.544973298913363 and parameters: {'n_estimators': 1547, 'max_depth': 2356, 'learning_rate': 0.013020626517440797, 'num_leaves': 307, 'subsample': 0.7219082374773522, 'colsample_bytree': 0.5980944158047438, 'reg_lambda': 0.2580524084579277, 'min_data_in_leaf': 42}. Best is trial 4 with value: 6.5395244348864505.\n",
      "[I 2024-03-25 20:04:17,103] Trial 10 finished with value: 6.584376524427879 and parameters: {'n_estimators': 1196, 'max_depth': 2494, 'learning_rate': 0.02880756295450451, 'num_leaves': 202, 'subsample': 0.6993299080455562, 'colsample_bytree': 0.40036307911138375, 'reg_lambda': 0.15559756918247714, 'min_data_in_leaf': 6}. Best is trial 4 with value: 6.5395244348864505.\n",
      "[I 2024-03-25 20:05:03,173] Trial 11 finished with value: 6.553844612045474 and parameters: {'n_estimators': 1541, 'max_depth': 2371, 'learning_rate': 0.013965242162732195, 'num_leaves': 271, 'subsample': 0.7189394699570795, 'colsample_bytree': 0.5973873753145247, 'reg_lambda': 0.3288281071095065, 'min_data_in_leaf': 8}. Best is trial 4 with value: 6.5395244348864505.\n",
      "[I 2024-03-25 20:05:52,130] Trial 12 finished with value: 6.667650906305288 and parameters: {'n_estimators': 1413, 'max_depth': 1961, 'learning_rate': 0.013697825358831515, 'num_leaves': 320, 'subsample': 0.6538605423143515, 'colsample_bytree': 0.6159153943326263, 'reg_lambda': 0.1786708099808969, 'min_data_in_leaf': 29}. Best is trial 4 with value: 6.5395244348864505.\n",
      "[I 2024-03-25 20:06:25,317] Trial 13 finished with value: 6.5404228724029645 and parameters: {'n_estimators': 1159, 'max_depth': 2377, 'learning_rate': 0.015098293386899326, 'num_leaves': 263, 'subsample': 0.7469191217279159, 'colsample_bytree': 0.5257544326287804, 'reg_lambda': 0.32728518895459563, 'min_data_in_leaf': 16}. Best is trial 4 with value: 6.5395244348864505.\n",
      "[I 2024-03-25 20:06:58,273] Trial 14 finished with value: 6.584279738132035 and parameters: {'n_estimators': 1172, 'max_depth': 1804, 'learning_rate': 0.021337302891387407, 'num_leaves': 249, 'subsample': 0.7728692250348602, 'colsample_bytree': 0.5182572647556316, 'reg_lambda': 0.4739425837939355, 'min_data_in_leaf': 16}. Best is trial 4 with value: 6.5395244348864505.\n",
      "[I 2024-03-25 20:07:28,251] Trial 15 finished with value: 6.605544702725022 and parameters: {'n_estimators': 1123, 'max_depth': 2051, 'learning_rate': 0.015468353605011522, 'num_leaves': 269, 'subsample': 0.6024846413761604, 'colsample_bytree': 0.5263355916736203, 'reg_lambda': 0.37400262172435517, 'min_data_in_leaf': 2}. Best is trial 4 with value: 6.5395244348864505.\n",
      "[I 2024-03-25 20:08:04,476] Trial 16 finished with value: 6.5917406976472455 and parameters: {'n_estimators': 1277, 'max_depth': 2483, 'learning_rate': 0.020153660013627284, 'num_leaves': 227, 'subsample': 0.7455161387239267, 'colsample_bytree': 0.4447644199416493, 'reg_lambda': 0.41313517545018774, 'min_data_in_leaf': 21}. Best is trial 4 with value: 6.5395244348864505.\n",
      "[I 2024-03-25 20:08:38,287] Trial 17 finished with value: 6.711938157322036 and parameters: {'n_estimators': 1103, 'max_depth': 2115, 'learning_rate': 0.015668518364023155, 'num_leaves': 278, 'subsample': 0.8255165677492449, 'colsample_bytree': 0.49854986613843544, 'reg_lambda': 0.30341300209329497, 'min_data_in_leaf': 45}. Best is trial 4 with value: 6.5395244348864505.\n",
      "[I 2024-03-25 20:09:15,747] Trial 18 finished with value: 6.600582752169897 and parameters: {'n_estimators': 1350, 'max_depth': 2285, 'learning_rate': 0.024351329165809028, 'num_leaves': 245, 'subsample': 0.8995916438820966, 'colsample_bytree': 0.5664730285594161, 'reg_lambda': 0.19613080383137566, 'min_data_in_leaf': 14}. Best is trial 4 with value: 6.5395244348864505.\n",
      "[I 2024-03-25 20:09:47,561] Trial 19 finished with value: 6.665368969001198 and parameters: {'n_estimators': 1238, 'max_depth': 1982, 'learning_rate': 0.019116557368198596, 'num_leaves': 202, 'subsample': 0.6833106511789362, 'colsample_bytree': 0.4303075045683158, 'reg_lambda': 0.4397777806164553, 'min_data_in_leaf': 29}. Best is trial 4 with value: 6.5395244348864505.\n",
      "[I 2024-03-25 20:10:20,468] Trial 20 finished with value: 6.655289475095482 and parameters: {'n_estimators': 1087, 'max_depth': 2403, 'learning_rate': 0.029151033673862695, 'num_leaves': 290, 'subsample': 0.7606027831194315, 'colsample_bytree': 0.496828156189073, 'reg_lambda': 0.49845274073001733, 'min_data_in_leaf': 52}. Best is trial 4 with value: 6.5395244348864505.\n",
      "[I 2024-03-25 20:11:11,145] Trial 21 finished with value: 6.606806922241569 and parameters: {'n_estimators': 1444, 'max_depth': 2302, 'learning_rate': 0.013094077463341248, 'num_leaves': 315, 'subsample': 0.7315206355437013, 'colsample_bytree': 0.6119741093412022, 'reg_lambda': 0.2956122229758242, 'min_data_in_leaf': 43}. Best is trial 4 with value: 6.5395244348864505.\n"
     ]
    },
    {
     "name": "stderr",
     "output_type": "stream",
     "text": [
      "[I 2024-03-25 20:11:54,609] Trial 22 finished with value: 6.615445314603358 and parameters: {'n_estimators': 1384, 'max_depth': 2432, 'learning_rate': 0.011949099226389944, 'num_leaves': 262, 'subsample': 0.7089886101002554, 'colsample_bytree': 0.6470881970434146, 'reg_lambda': 0.22025809278895922, 'min_data_in_leaf': 29}. Best is trial 4 with value: 6.5395244348864505.\n",
      "[I 2024-03-25 20:12:40,052] Trial 23 finished with value: 6.6697432960187415 and parameters: {'n_estimators': 1463, 'max_depth': 2288, 'learning_rate': 0.015452291455548382, 'num_leaves': 344, 'subsample': 0.7838883505066515, 'colsample_bytree': 0.5547465601055577, 'reg_lambda': 0.35586572063249367, 'min_data_in_leaf': 65}. Best is trial 4 with value: 6.5395244348864505.\n",
      "[I 2024-03-25 20:13:15,036] Trial 24 finished with value: 6.643428290859838 and parameters: {'n_estimators': 1156, 'max_depth': 2323, 'learning_rate': 0.013055467911244316, 'num_leaves': 305, 'subsample': 0.6741641874784322, 'colsample_bytree': 0.5910492021700734, 'reg_lambda': 0.23974858860407258, 'min_data_in_leaf': 14}. Best is trial 4 with value: 6.5395244348864505.\n",
      "[I 2024-03-25 20:13:49,748] Trial 25 finished with value: 6.625442547534477 and parameters: {'n_estimators': 1247, 'max_depth': 2439, 'learning_rate': 0.01657618245867651, 'num_leaves': 228, 'subsample': 0.7375743457428906, 'colsample_bytree': 0.641641959151272, 'reg_lambda': 0.2952886335655982, 'min_data_in_leaf': 21}. Best is trial 4 with value: 6.5395244348864505.\n",
      "[I 2024-03-25 20:14:35,225] Trial 26 finished with value: 6.71234526383666 and parameters: {'n_estimators': 1316, 'max_depth': 2178, 'learning_rate': 0.012043664748167773, 'num_leaves': 337, 'subsample': 0.7635885565801501, 'colsample_bytree': 0.5408016477802443, 'reg_lambda': 0.13489134744052836, 'min_data_in_leaf': 35}. Best is trial 4 with value: 6.5395244348864505.\n",
      "[I 2024-03-25 20:15:01,078] Trial 27 finished with value: 6.858731422998621 and parameters: {'n_estimators': 1043, 'max_depth': 1874, 'learning_rate': 0.010066663563383678, 'num_leaves': 256, 'subsample': 0.8078981537125141, 'colsample_bytree': 0.4003251779831241, 'reg_lambda': 0.27464066691420186, 'min_data_in_leaf': 1}. Best is trial 4 with value: 6.5395244348864505.\n",
      "[I 2024-03-25 20:15:29,142] Trial 28 finished with value: 6.635682214242723 and parameters: {'n_estimators': 964, 'max_depth': 2377, 'learning_rate': 0.016655442228455167, 'num_leaves': 283, 'subsample': 0.6868238668828791, 'colsample_bytree': 0.6843755549680237, 'reg_lambda': 0.41490300768715455, 'min_data_in_leaf': 48}. Best is trial 4 with value: 6.5395244348864505.\n",
      "[I 2024-03-25 20:16:22,986] Trial 29 finished with value: 6.739689981695268 and parameters: {'n_estimators': 1544, 'max_depth': 1942, 'learning_rate': 0.014852662446472544, 'num_leaves': 303, 'subsample': 0.8507305419705314, 'colsample_bytree': 0.4982781975697206, 'reg_lambda': 0.0879909245666673, 'min_data_in_leaf': 38}. Best is trial 4 with value: 6.5395244348864505.\n",
      "[I 2024-03-25 20:17:06,208] Trial 30 finished with value: 6.784630212934161 and parameters: {'n_estimators': 1214, 'max_depth': 2080, 'learning_rate': 0.023480172726102214, 'num_leaves': 395, 'subsample': 0.7232937238510233, 'colsample_bytree': 0.4790199169242582, 'reg_lambda': 0.21675028210655628, 'min_data_in_leaf': 31}. Best is trial 4 with value: 6.5395244348864505.\n",
      "[I 2024-03-25 20:17:32,490] Trial 31 finished with value: 6.547414979827674 and parameters: {'n_estimators': 917, 'max_depth': 2140, 'learning_rate': 0.022264418304875615, 'num_leaves': 366, 'subsample': 0.823949521709935, 'colsample_bytree': 0.5771723980911774, 'reg_lambda': 0.25538949317043114, 'min_data_in_leaf': 61}. Best is trial 4 with value: 6.5395244348864505.\n",
      "[I 2024-03-25 20:18:00,533] Trial 32 finished with value: 6.6313741198202685 and parameters: {'n_estimators': 968, 'max_depth': 2258, 'learning_rate': 0.02286600221304206, 'num_leaves': 330, 'subsample': 0.8204147984429092, 'colsample_bytree': 0.5802879184111079, 'reg_lambda': 0.32165437664867474, 'min_data_in_leaf': 63}. Best is trial 4 with value: 6.5395244348864505.\n",
      "[I 2024-03-25 20:18:27,337] Trial 33 finished with value: 6.665346884775145 and parameters: {'n_estimators': 957, 'max_depth': 2019, 'learning_rate': 0.026709113930149846, 'num_leaves': 360, 'subsample': 0.8998990929450524, 'colsample_bytree': 0.6167170651701932, 'reg_lambda': 0.34766486056595913, 'min_data_in_leaf': 78}. Best is trial 4 with value: 6.5395244348864505.\n",
      "[I 2024-03-25 20:18:54,319] Trial 34 finished with value: 6.7070872044962755 and parameters: {'n_estimators': 1072, 'max_depth': 1907, 'learning_rate': 0.01790093176596308, 'num_leaves': 395, 'subsample': 0.7888877987836986, 'colsample_bytree': 0.5399476377756983, 'reg_lambda': 0.2874517644019377, 'min_data_in_leaf': 99}. Best is trial 4 with value: 6.5395244348864505.\n",
      "[I 2024-03-25 20:19:30,014] Trial 35 finished with value: 6.635218105557 and parameters: {'n_estimators': 1152, 'max_depth': 2447, 'learning_rate': 0.027131992089617755, 'num_leaves': 373, 'subsample': 0.8534583629545444, 'colsample_bytree': 0.6297114628270738, 'reg_lambda': 0.2280682829507101, 'min_data_in_leaf': 68}. Best is trial 4 with value: 6.5395244348864505.\n",
      "[I 2024-03-25 20:19:56,830] Trial 36 finished with value: 6.643544722855943 and parameters: {'n_estimators': 999, 'max_depth': 2201, 'learning_rate': 0.021364256071704748, 'num_leaves': 238, 'subsample': 0.7968204228810717, 'colsample_bytree': 0.6639933941880627, 'reg_lambda': 0.10047826061542911, 'min_data_in_leaf': 81}. Best is trial 4 with value: 6.5395244348864505.\n",
      "[I 2024-03-25 20:20:34,873] Trial 37 finished with value: 6.6587318594694525 and parameters: {'n_estimators': 1297, 'max_depth': 2343, 'learning_rate': 0.01906419492840892, 'num_leaves': 217, 'subsample': 0.7515915692968079, 'colsample_bytree': 0.46147490707548694, 'reg_lambda': 0.2574408527486004, 'min_data_in_leaf': 71}. Best is trial 4 with value: 6.5395244348864505.\n",
      "[I 2024-03-25 20:21:03,351] Trial 38 finished with value: 6.575432894995497 and parameters: {'n_estimators': 1050, 'max_depth': 2237, 'learning_rate': 0.022451422961702307, 'num_leaves': 384, 'subsample': 0.8786327304920136, 'colsample_bytree': 0.5924399012502248, 'reg_lambda': 0.3790935124429369, 'min_data_in_leaf': 91}. Best is trial 4 with value: 6.5395244348864505.\n",
      "[I 2024-03-25 20:21:29,633] Trial 39 finished with value: 6.635729193489082 and parameters: {'n_estimators': 937, 'max_depth': 2181, 'learning_rate': 0.025219547966414332, 'num_leaves': 238, 'subsample': 0.8116677325677235, 'colsample_bytree': 0.5134913691714517, 'reg_lambda': 0.3142145854958976, 'min_data_in_leaf': 55}. Best is trial 4 with value: 6.5395244348864505.\n",
      "[I 2024-03-25 20:22:16,797] Trial 40 finished with value: 6.573614621221883 and parameters: {'n_estimators': 1496, 'max_depth': 1874, 'learning_rate': 0.014612419298806854, 'num_leaves': 261, 'subsample': 0.7773664027279453, 'colsample_bytree': 0.5526212979094005, 'reg_lambda': 0.054086103646834804, 'min_data_in_leaf': 24}. Best is trial 4 with value: 6.5395244348864505.\n",
      "[I 2024-03-25 20:22:43,829] Trial 41 finished with value: 6.567701150829867 and parameters: {'n_estimators': 922, 'max_depth': 2115, 'learning_rate': 0.020824235094762954, 'num_leaves': 364, 'subsample': 0.8336254508653941, 'colsample_bytree': 0.5696285954263688, 'reg_lambda': 0.263621373325382, 'min_data_in_leaf': 60}. Best is trial 4 with value: 6.5395244348864505.\n",
      "[I 2024-03-25 20:23:11,194] Trial 42 finished with value: 6.625945092536327 and parameters: {'n_estimators': 901, 'max_depth': 2153, 'learning_rate': 0.024084363654043973, 'num_leaves': 355, 'subsample': 0.842065448238357, 'colsample_bytree': 0.5743691982586686, 'reg_lambda': 0.18790154032591252, 'min_data_in_leaf': 52}. Best is trial 4 with value: 6.5395244348864505.\n",
      "[I 2024-03-25 20:23:41,588] Trial 43 finished with value: 6.543622440190041 and parameters: {'n_estimators': 1004, 'max_depth': 2058, 'learning_rate': 0.019744107439425285, 'num_leaves': 377, 'subsample': 0.8669839391657644, 'colsample_bytree': 0.5987584538057404, 'reg_lambda': 0.238528064460042, 'min_data_in_leaf': 9}. Best is trial 4 with value: 6.5395244348864505.\n",
      "[I 2024-03-25 20:24:11,497] Trial 44 finished with value: 6.568846844167631 and parameters: {'n_estimators': 998, 'max_depth': 2089, 'learning_rate': 0.01995448467736033, 'num_leaves': 373, 'subsample': 0.8617952866088842, 'colsample_bytree': 0.5988253754793851, 'reg_lambda': 0.16884087001757747, 'min_data_in_leaf': 9}. Best is trial 4 with value: 6.5395244348864505.\n"
     ]
    },
    {
     "name": "stderr",
     "output_type": "stream",
     "text": [
      "[I 2024-03-25 20:24:43,025] Trial 45 finished with value: 6.579191399052078 and parameters: {'n_estimators': 1024, 'max_depth': 2027, 'learning_rate': 0.01728363009597769, 'num_leaves': 385, 'subsample': 0.8808906401275012, 'colsample_bytree': 0.6316020294212611, 'reg_lambda': 0.24220085230139873, 'min_data_in_leaf': 10}. Best is trial 4 with value: 6.5395244348864505.\n",
      "[I 2024-03-25 20:25:18,089] Trial 46 finished with value: 6.535805520650596 and parameters: {'n_estimators': 1377, 'max_depth': 1986, 'learning_rate': 0.02214401810090335, 'num_leaves': 212, 'subsample': 0.8900130904046478, 'colsample_bytree': 0.41712758936678207, 'reg_lambda': 0.2745056346452866, 'min_data_in_leaf': 5}. Best is trial 46 with value: 6.535805520650596.\n",
      "[I 2024-03-25 20:25:54,321] Trial 47 finished with value: 6.523977255467244 and parameters: {'n_estimators': 1385, 'max_depth': 1990, 'learning_rate': 0.01307910220333707, 'num_leaves': 209, 'subsample': 0.8674115769188167, 'colsample_bytree': 0.4251378127046227, 'reg_lambda': 0.20875427953302889, 'min_data_in_leaf': 17}. Best is trial 47 with value: 6.523977255467244.\n",
      "[I 2024-03-25 20:26:29,957] Trial 48 finished with value: 6.575761835861438 and parameters: {'n_estimators': 1366, 'max_depth': 1998, 'learning_rate': 0.011947120857186582, 'num_leaves': 210, 'subsample': 0.8899340652989268, 'colsample_bytree': 0.425719474541691, 'reg_lambda': 0.14521654067573503, 'min_data_in_leaf': 17}. Best is trial 47 with value: 6.523977255467244.\n",
      "[I 2024-03-25 20:27:05,788] Trial 49 finished with value: 6.61393222522282 and parameters: {'n_estimators': 1405, 'max_depth': 1923, 'learning_rate': 0.02723605924786682, 'num_leaves': 213, 'subsample': 0.8711174468878782, 'colsample_bytree': 0.4440365372638754, 'reg_lambda': 0.20536230556325838, 'min_data_in_leaf': 6}. Best is trial 47 with value: 6.523977255467244.\n",
      "[I 2024-03-25 20:27:41,442] Trial 50 finished with value: 6.578194427057375 and parameters: {'n_estimators': 1317, 'max_depth': 1854, 'learning_rate': 0.01836168535172963, 'num_leaves': 228, 'subsample': 0.8648018644971746, 'colsample_bytree': 0.4124147950568013, 'reg_lambda': 0.3374284591641325, 'min_data_in_leaf': 24}. Best is trial 47 with value: 6.523977255467244.\n",
      "[I 2024-03-25 20:28:22,353] Trial 51 finished with value: 6.528624482750567 and parameters: {'n_estimators': 1441, 'max_depth': 1971, 'learning_rate': 0.013021626333616582, 'num_leaves': 235, 'subsample': 0.8879463282671808, 'colsample_bytree': 0.44207346466629227, 'reg_lambda': 0.2697691456025029, 'min_data_in_leaf': 12}. Best is trial 47 with value: 6.523977255467244.\n",
      "[I 2024-03-25 20:29:02,063] Trial 52 finished with value: 6.58156087560865 and parameters: {'n_estimators': 1439, 'max_depth': 1964, 'learning_rate': 0.013965300746835418, 'num_leaves': 237, 'subsample': 0.8905054788520368, 'colsample_bytree': 0.43920571054540924, 'reg_lambda': 0.28070886682516044, 'min_data_in_leaf': 5}. Best is trial 47 with value: 6.523977255467244.\n",
      "[I 2024-03-25 20:29:42,072] Trial 53 finished with value: 6.53668596975728 and parameters: {'n_estimators': 1490, 'max_depth': 2072, 'learning_rate': 0.012770806800826222, 'num_leaves': 220, 'subsample': 0.8893476928954284, 'colsample_bytree': 0.41450444976893286, 'reg_lambda': 0.3149797472573218, 'min_data_in_leaf': 12}. Best is trial 47 with value: 6.523977255467244.\n",
      "[I 2024-03-25 20:30:22,154] Trial 54 finished with value: 6.509683500952552 and parameters: {'n_estimators': 1502, 'max_depth': 1809, 'learning_rate': 0.012511910252273984, 'num_leaves': 206, 'subsample': 0.8920288058392023, 'colsample_bytree': 0.4143641395113137, 'reg_lambda': 0.36190128180429115, 'min_data_in_leaf': 18}. Best is trial 54 with value: 6.509683500952552.\n",
      "[I 2024-03-25 20:31:01,372] Trial 55 finished with value: 6.562430835713524 and parameters: {'n_estimators': 1487, 'max_depth': 1812, 'learning_rate': 0.011244784338332255, 'num_leaves': 204, 'subsample': 0.8908471040409409, 'colsample_bytree': 0.4145778118067187, 'reg_lambda': 0.3554836632133438, 'min_data_in_leaf': 19}. Best is trial 54 with value: 6.509683500952552.\n",
      "[I 2024-03-25 20:31:44,444] Trial 56 finished with value: 6.5014129109511165 and parameters: {'n_estimators': 1521, 'max_depth': 1845, 'learning_rate': 0.012403926817173923, 'num_leaves': 220, 'subsample': 0.8573655609822273, 'colsample_bytree': 0.45706111391742477, 'reg_lambda': 0.31135421253673806, 'min_data_in_leaf': 14}. Best is trial 56 with value: 6.5014129109511165.\n",
      "[I 2024-03-25 20:32:27,118] Trial 57 finished with value: 6.547307203060673 and parameters: {'n_estimators': 1516, 'max_depth': 1860, 'learning_rate': 0.012396863721071204, 'num_leaves': 220, 'subsample': 0.8529193593131895, 'colsample_bytree': 0.46304273294672266, 'reg_lambda': 0.39997849921763906, 'min_data_in_leaf': 11}. Best is trial 56 with value: 6.5014129109511165.\n",
      "[I 2024-03-25 20:33:05,454] Trial 58 finished with value: 6.556469364898211 and parameters: {'n_estimators': 1460, 'max_depth': 1832, 'learning_rate': 0.011257815985457408, 'num_leaves': 208, 'subsample': 0.884717054057997, 'colsample_bytree': 0.41216395385025945, 'reg_lambda': 0.31236206958948143, 'min_data_in_leaf': 13}. Best is trial 56 with value: 6.5014129109511165.\n",
      "[I 2024-03-25 20:33:47,086] Trial 59 finished with value: 6.575890708681528 and parameters: {'n_estimators': 1524, 'max_depth': 1999, 'learning_rate': 0.012674727481174328, 'num_leaves': 224, 'subsample': 0.8730602829691425, 'colsample_bytree': 0.45106793389191463, 'reg_lambda': 0.3714409524881225, 'min_data_in_leaf': 4}. Best is trial 56 with value: 6.5014129109511165.\n",
      "[I 2024-03-25 20:34:26,547] Trial 60 finished with value: 6.58152504545217 and parameters: {'n_estimators': 1425, 'max_depth': 1899, 'learning_rate': 0.01370157998408736, 'num_leaves': 200, 'subsample': 0.8571439774698407, 'colsample_bytree': 0.48008454388791877, 'reg_lambda': 0.2741923486461316, 'min_data_in_leaf': 26}. Best is trial 56 with value: 6.5014129109511165.\n",
      "[I 2024-03-25 20:35:06,418] Trial 61 finished with value: 6.572492727309639 and parameters: {'n_estimators': 1478, 'max_depth': 1801, 'learning_rate': 0.010902865531643827, 'num_leaves': 215, 'subsample': 0.8946322474195686, 'colsample_bytree': 0.4289536836123719, 'reg_lambda': 0.30316382024178007, 'min_data_in_leaf': 18}. Best is trial 56 with value: 6.5014129109511165.\n",
      "[I 2024-03-25 20:35:44,073] Trial 62 finished with value: 6.494416336769992 and parameters: {'n_estimators': 1401, 'max_depth': 1838, 'learning_rate': 0.014293491029807275, 'num_leaves': 234, 'subsample': 0.8782361144955457, 'colsample_bytree': 0.4373465718949404, 'reg_lambda': 0.33869199049242504, 'min_data_in_leaf': 15}. Best is trial 62 with value: 6.494416336769992.\n",
      "[I 2024-03-25 20:36:23,431] Trial 63 finished with value: 6.503079628538672 and parameters: {'n_estimators': 1398, 'max_depth': 1833, 'learning_rate': 0.014263792113601872, 'num_leaves': 234, 'subsample': 0.8399362191796512, 'colsample_bytree': 0.4390358394473373, 'reg_lambda': 0.33046832717038255, 'min_data_in_leaf': 14}. Best is trial 62 with value: 6.494416336769992.\n",
      "[I 2024-03-25 20:37:00,711] Trial 64 finished with value: 6.537408587260552 and parameters: {'n_estimators': 1391, 'max_depth': 1843, 'learning_rate': 0.013355101317491345, 'num_leaves': 233, 'subsample': 0.8421537389184292, 'colsample_bytree': 0.4351899652982528, 'reg_lambda': 0.34410634646170873, 'min_data_in_leaf': 15}. Best is trial 62 with value: 6.494416336769992.\n",
      "[I 2024-03-25 20:37:37,453] Trial 65 finished with value: 6.630986404579883 and parameters: {'n_estimators': 1361, 'max_depth': 1891, 'learning_rate': 0.014223993491636723, 'num_leaves': 246, 'subsample': 0.8776599174250906, 'colsample_bytree': 0.45136126515924846, 'reg_lambda': 0.3682030631740303, 'min_data_in_leaf': 1}. Best is trial 62 with value: 6.494416336769992.\n",
      "[I 2024-03-25 20:38:16,089] Trial 66 finished with value: 6.56941659411279 and parameters: {'n_estimators': 1415, 'max_depth': 1936, 'learning_rate': 0.016086375752416993, 'num_leaves': 232, 'subsample': 0.8382172587420824, 'colsample_bytree': 0.47084675833652856, 'reg_lambda': 0.4239514569826789, 'min_data_in_leaf': 7}. Best is trial 62 with value: 6.494416336769992.\n"
     ]
    },
    {
     "name": "stderr",
     "output_type": "stream",
     "text": [
      "[I 2024-03-25 20:38:54,567] Trial 67 finished with value: 6.601379980739162 and parameters: {'n_estimators': 1446, 'max_depth': 1835, 'learning_rate': 0.011691969381518506, 'num_leaves': 207, 'subsample': 0.8608454206937751, 'colsample_bytree': 0.42085153605958864, 'reg_lambda': 0.3824093519761309, 'min_data_in_leaf': 26}. Best is trial 62 with value: 6.494416336769992.\n",
      "[I 2024-03-25 20:39:31,453] Trial 68 finished with value: 6.6118545601621195 and parameters: {'n_estimators': 1340, 'max_depth': 1963, 'learning_rate': 0.01230892628414659, 'num_leaves': 253, 'subsample': 0.8723821349259864, 'colsample_bytree': 0.4052350679761134, 'reg_lambda': 0.33377156478321096, 'min_data_in_leaf': 20}. Best is trial 62 with value: 6.494416336769992.\n",
      "[I 2024-03-25 20:40:10,777] Trial 69 finished with value: 6.5081083022526105 and parameters: {'n_estimators': 1384, 'max_depth': 1870, 'learning_rate': 0.014523069288017085, 'num_leaves': 243, 'subsample': 0.8503860506476065, 'colsample_bytree': 0.4861511082489803, 'reg_lambda': 0.4013035538376367, 'min_data_in_leaf': 14}. Best is trial 62 with value: 6.494416336769992.\n",
      "[I 2024-03-25 20:40:56,797] Trial 70 finished with value: 6.541161577277391 and parameters: {'n_estimators': 1517, 'max_depth': 1872, 'learning_rate': 0.014506851625136043, 'num_leaves': 242, 'subsample': 0.8280529180389825, 'colsample_bytree': 0.48822447710421646, 'reg_lambda': 0.4462014807704884, 'min_data_in_leaf': 21}. Best is trial 62 with value: 6.494416336769992.\n",
      "[I 2024-03-25 20:41:33,601] Trial 71 finished with value: 6.550153250762313 and parameters: {'n_estimators': 1390, 'max_depth': 1826, 'learning_rate': 0.01338423687132192, 'num_leaves': 225, 'subsample': 0.8478382774313467, 'colsample_bytree': 0.4362286266504968, 'reg_lambda': 0.3977869641733493, 'min_data_in_leaf': 16}. Best is trial 62 with value: 6.494416336769992.\n",
      "[I 2024-03-25 20:42:16,308] Trial 72 finished with value: 6.718263770427554 and parameters: {'n_estimators': 1467, 'max_depth': 1908, 'learning_rate': 0.015151102466650055, 'num_leaves': 212, 'subsample': 0.8827848087828991, 'colsample_bytree': 0.45292216369281946, 'reg_lambda': 0.35916107196825964, 'min_data_in_leaf': 33}. Best is trial 62 with value: 6.494416336769992.\n",
      "[I 2024-03-25 20:42:52,708] Trial 73 finished with value: 6.536992483204104 and parameters: {'n_estimators': 1373, 'max_depth': 1930, 'learning_rate': 0.013457863207767077, 'num_leaves': 232, 'subsample': 0.8983404228019952, 'colsample_bytree': 0.424829176638358, 'reg_lambda': 0.3299082166389909, 'min_data_in_leaf': 13}. Best is trial 62 with value: 6.494416336769992.\n",
      "[I 2024-03-25 20:43:30,861] Trial 74 finished with value: 6.564875627645062 and parameters: {'n_estimators': 1430, 'max_depth': 1884, 'learning_rate': 0.012763158940835836, 'num_leaves': 219, 'subsample': 0.865472636428328, 'colsample_bytree': 0.46620299265935666, 'reg_lambda': 0.2974879197189108, 'min_data_in_leaf': 5}. Best is trial 62 with value: 6.494416336769992.\n",
      "[I 2024-03-25 20:44:08,856] Trial 75 finished with value: 6.613542591269477 and parameters: {'n_estimators': 1396, 'max_depth': 1851, 'learning_rate': 0.014116157277254163, 'num_leaves': 251, 'subsample': 0.8136819960588598, 'colsample_bytree': 0.4451194846523685, 'reg_lambda': 0.27135778243296127, 'min_data_in_leaf': 3}. Best is trial 62 with value: 6.494416336769992.\n",
      "[I 2024-03-25 20:44:42,994] Trial 76 finished with value: 6.647629630844606 and parameters: {'n_estimators': 1261, 'max_depth': 1816, 'learning_rate': 0.011579333128058172, 'num_leaves': 270, 'subsample': 0.8481356112063445, 'colsample_bytree': 0.40574681921699135, 'reg_lambda': 0.39062464638269356, 'min_data_in_leaf': 11}. Best is trial 62 with value: 6.494416336769992.\n",
      "[I 2024-03-25 20:54:36,340] Trial 77 finished with value: 6.642485114467278 and parameters: {'n_estimators': 1323, 'max_depth': 1951, 'learning_rate': 0.01621652013003455, 'num_leaves': 240, 'subsample': 0.8771267290687935, 'colsample_bytree': 0.4546769867623151, 'reg_lambda': 0.2893115131874883, 'min_data_in_leaf': 23}. Best is trial 62 with value: 6.494416336769992.\n",
      "[I 2024-03-25 20:54:58,481] Trial 78 finished with value: 6.729938044837573 and parameters: {'n_estimators': 1291, 'max_depth': 1916, 'learning_rate': 0.010491855319864808, 'num_leaves': 205, 'subsample': 0.624757111708806, 'colsample_bytree': 0.43338780706695224, 'reg_lambda': 0.47861024433820354, 'min_data_in_leaf': 8}. Best is trial 62 with value: 6.494416336769992.\n",
      "[I 2024-03-25 20:55:24,821] Trial 79 finished with value: 6.536358273776306 and parameters: {'n_estimators': 1453, 'max_depth': 1981, 'learning_rate': 0.012299664507321933, 'num_leaves': 226, 'subsample': 0.8311043800075424, 'colsample_bytree': 0.41958473639266625, 'reg_lambda': 0.4194664646717069, 'min_data_in_leaf': 17}. Best is trial 62 with value: 6.494416336769992.\n",
      "[I 2024-03-25 20:56:04,862] Trial 80 finished with value: 6.585084020790303 and parameters: {'n_estimators': 1418, 'max_depth': 1861, 'learning_rate': 0.013063722219066732, 'num_leaves': 215, 'subsample': 0.8570450448425739, 'colsample_bytree': 0.48873889285467365, 'reg_lambda': 0.2100085935306097, 'min_data_in_leaf': 27}. Best is trial 62 with value: 6.494416336769992.\n",
      "[I 2024-03-25 20:56:53,084] Trial 81 finished with value: 6.540276043366042 and parameters: {'n_estimators': 1451, 'max_depth': 1975, 'learning_rate': 0.012283130236256462, 'num_leaves': 223, 'subsample': 0.8292608858880941, 'colsample_bytree': 0.42083063183724756, 'reg_lambda': 0.40571190573230276, 'min_data_in_leaf': 17}. Best is trial 62 with value: 6.494416336769992.\n",
      "[I 2024-03-25 20:57:44,554] Trial 82 finished with value: 6.532294408381799 and parameters: {'n_estimators': 1471, 'max_depth': 2027, 'learning_rate': 0.013727570493679637, 'num_leaves': 230, 'subsample': 0.8712136033152248, 'colsample_bytree': 0.4426535908326436, 'reg_lambda': 0.41832437991469223, 'min_data_in_leaf': 13}. Best is trial 62 with value: 6.494416336769992.\n",
      "[I 2024-03-25 20:58:39,518] Trial 83 finished with value: 6.550851044111893 and parameters: {'n_estimators': 1533, 'max_depth': 2036, 'learning_rate': 0.013646563060892314, 'num_leaves': 233, 'subsample': 0.8847963705266134, 'colsample_bytree': 0.443379483814888, 'reg_lambda': 0.4330137132333082, 'min_data_in_leaf': 13}. Best is trial 62 with value: 6.494416336769992.\n",
      "[I 2024-03-25 20:59:30,800] Trial 84 finished with value: 6.539692644801995 and parameters: {'n_estimators': 1506, 'max_depth': 2014, 'learning_rate': 0.015211270958062953, 'num_leaves': 244, 'subsample': 0.8698085057305928, 'colsample_bytree': 0.4292573265309735, 'reg_lambda': 0.4595342713913996, 'min_data_in_leaf': 7}. Best is trial 62 with value: 6.494416336769992.\n",
      "[I 2024-03-25 21:00:23,180] Trial 85 finished with value: 6.567771190267967 and parameters: {'n_estimators': 1549, 'max_depth': 2005, 'learning_rate': 0.014770898431758354, 'num_leaves': 200, 'subsample': 0.8995299647368475, 'colsample_bytree': 0.4599314503168195, 'reg_lambda': 0.24695865136044104, 'min_data_in_leaf': 15}. Best is trial 62 with value: 6.494416336769992.\n",
      "[I 2024-03-25 21:01:16,444] Trial 86 finished with value: 6.639007277322088 and parameters: {'n_estimators': 1474, 'max_depth': 1801, 'learning_rate': 0.014449399811183596, 'num_leaves': 231, 'subsample': 0.860409352550657, 'colsample_bytree': 0.47328762553224263, 'reg_lambda': 0.34932946694309486, 'min_data_in_leaf': 22}. Best is trial 62 with value: 6.494416336769992.\n",
      "[I 2024-03-25 21:02:00,458] Trial 87 finished with value: 6.561642648966586 and parameters: {'n_estimators': 1353, 'max_depth': 1885, 'learning_rate': 0.01567648692218817, 'num_leaves': 211, 'subsample': 0.8821910717184753, 'colsample_bytree': 0.43897394068426826, 'reg_lambda': 0.3638888862068512, 'min_data_in_leaf': 9}. Best is trial 62 with value: 6.494416336769992.\n",
      "[I 2024-03-25 21:02:49,354] Trial 88 finished with value: 6.559633345777062 and parameters: {'n_estimators': 1378, 'max_depth': 1825, 'learning_rate': 0.013064227505446687, 'num_leaves': 238, 'subsample': 0.8425865565281756, 'colsample_bytree': 0.5065709611451523, 'reg_lambda': 0.23145116786267628, 'min_data_in_leaf': 19}. Best is trial 62 with value: 6.494416336769992.\n"
     ]
    },
    {
     "name": "stderr",
     "output_type": "stream",
     "text": [
      "[I 2024-03-25 21:03:39,690] Trial 89 finished with value: 6.54257925710299 and parameters: {'n_estimators': 1404, 'max_depth': 2047, 'learning_rate': 0.013853055789351584, 'num_leaves': 260, 'subsample': 0.8708816509579141, 'colsample_bytree': 0.4454451326243106, 'reg_lambda': 0.32214595543923197, 'min_data_in_leaf': 11}. Best is trial 62 with value: 6.494416336769992.\n",
      "[I 2024-03-25 21:04:34,262] Trial 90 finished with value: 6.5131296991487 and parameters: {'n_estimators': 1500, 'max_depth': 1863, 'learning_rate': 0.01267889688711466, 'num_leaves': 294, 'subsample': 0.8896702518424536, 'colsample_bytree': 0.40144722638920094, 'reg_lambda': 0.3072644893251914, 'min_data_in_leaf': 14}. Best is trial 62 with value: 6.494416336769992.\n",
      "[I 2024-03-25 21:05:24,857] Trial 91 finished with value: 6.536210275353972 and parameters: {'n_estimators': 1499, 'max_depth': 1846, 'learning_rate': 0.01269467821471054, 'num_leaves': 223, 'subsample': 0.8917481242687494, 'colsample_bytree': 0.4079196676234277, 'reg_lambda': 0.3092069301298097, 'min_data_in_leaf': 15}. Best is trial 62 with value: 6.494416336769992.\n",
      "[I 2024-03-25 21:06:16,346] Trial 92 finished with value: 6.557304270477907 and parameters: {'n_estimators': 1438, 'max_depth': 1901, 'learning_rate': 0.011908250089323155, 'num_leaves': 295, 'subsample': 0.8857430799862381, 'colsample_bytree': 0.4021775215159445, 'reg_lambda': 0.2664297687566721, 'min_data_in_leaf': 13}. Best is trial 62 with value: 6.494416336769992.\n",
      "[I 2024-03-25 21:07:04,226] Trial 93 finished with value: 6.602357600779788 and parameters: {'n_estimators': 1477, 'max_depth': 1878, 'learning_rate': 0.013297943799505937, 'num_leaves': 218, 'subsample': 0.8771350286588643, 'colsample_bytree': 0.41868788260854406, 'reg_lambda': 0.3849666923016885, 'min_data_in_leaf': 3}. Best is trial 62 with value: 6.494416336769992.\n",
      "[I 2024-03-25 21:07:57,427] Trial 94 finished with value: 6.534210203486386 and parameters: {'n_estimators': 1506, 'max_depth': 1868, 'learning_rate': 0.012456493689144628, 'num_leaves': 255, 'subsample': 0.8544642233070849, 'colsample_bytree': 0.4283724860477199, 'reg_lambda': 0.2826863302269468, 'min_data_in_leaf': 19}. Best is trial 62 with value: 6.494416336769992.\n",
      "[I 2024-03-25 21:08:55,280] Trial 95 finished with value: 6.543215937731775 and parameters: {'n_estimators': 1533, 'max_depth': 1864, 'learning_rate': 0.012510927024761424, 'num_leaves': 312, 'subsample': 0.8538899100647043, 'colsample_bytree': 0.4318764061321863, 'reg_lambda': 0.28430184570030803, 'min_data_in_leaf': 19}. Best is trial 62 with value: 6.494416336769992.\n",
      "[I 2024-03-25 21:09:53,673] Trial 96 finished with value: 6.618916035844831 and parameters: {'n_estimators': 1512, 'max_depth': 1819, 'learning_rate': 0.014210049483793525, 'num_leaves': 256, 'subsample': 0.8184305507051453, 'colsample_bytree': 0.4551492661292681, 'reg_lambda': 0.295593047891891, 'min_data_in_leaf': 24}. Best is trial 62 with value: 6.494416336769992.\n",
      "[I 2024-03-25 21:10:47,450] Trial 97 finished with value: 6.690832970753178 and parameters: {'n_estimators': 1486, 'max_depth': 1842, 'learning_rate': 0.012976986544291021, 'num_leaves': 278, 'subsample': 0.8679758884818596, 'colsample_bytree': 0.42398096876969577, 'reg_lambda': 0.32416794058068293, 'min_data_in_leaf': 37}. Best is trial 62 with value: 6.494416336769992.\n",
      "[I 2024-03-25 21:11:37,829] Trial 98 finished with value: 6.592343224413152 and parameters: {'n_estimators': 1465, 'max_depth': 1947, 'learning_rate': 0.011698440815441472, 'num_leaves': 245, 'subsample': 0.8366258201183263, 'colsample_bytree': 0.4100694756851104, 'reg_lambda': 0.3417626404285574, 'min_data_in_leaf': 22}. Best is trial 62 with value: 6.494416336769992.\n",
      "[I 2024-03-25 21:12:35,552] Trial 99 finished with value: 6.606910791158154 and parameters: {'n_estimators': 1501, 'max_depth': 1916, 'learning_rate': 0.013684293267683756, 'num_leaves': 250, 'subsample': 0.8480372430091889, 'colsample_bytree': 0.4651300470809487, 'reg_lambda': 0.24958818547303604, 'min_data_in_leaf': 28}. Best is trial 62 with value: 6.494416336769992.\n",
      "[I 2024-03-25 21:13:32,472] Trial 100 finished with value: 6.574425628324254 and parameters: {'n_estimators': 1530, 'max_depth': 1833, 'learning_rate': 0.01207812955710965, 'num_leaves': 265, 'subsample': 0.8629874726473047, 'colsample_bytree': 0.44680187803391647, 'reg_lambda': 0.3744349244013054, 'min_data_in_leaf': 10}. Best is trial 62 with value: 6.494416336769992.\n",
      "[I 2024-03-25 21:14:23,747] Trial 101 finished with value: 6.527621670992039 and parameters: {'n_estimators': 1407, 'max_depth': 1858, 'learning_rate': 0.012892909138938837, 'num_leaves': 325, 'subsample': 0.8874313316290527, 'colsample_bytree': 0.41706275221451217, 'reg_lambda': 0.30327832765875334, 'min_data_in_leaf': 15}. Best is trial 62 with value: 6.494416336769992.\n",
      "[I 2024-03-25 21:15:20,279] Trial 102 finished with value: 6.528861792250618 and parameters: {'n_estimators': 1411, 'max_depth': 1865, 'learning_rate': 0.0128787461535235, 'num_leaves': 325, 'subsample': 0.8748725035168641, 'colsample_bytree': 0.43888593873454174, 'reg_lambda': 0.3078047423509783, 'min_data_in_leaf': 15}. Best is trial 62 with value: 6.494416336769992.\n",
      "[I 2024-03-25 21:16:15,924] Trial 103 finished with value: 6.527331940905716 and parameters: {'n_estimators': 1403, 'max_depth': 1852, 'learning_rate': 0.013974009083156939, 'num_leaves': 324, 'subsample': 0.8775108199883346, 'colsample_bytree': 0.43939013577872527, 'reg_lambda': 0.3042920492349392, 'min_data_in_leaf': 15}. Best is trial 62 with value: 6.494416336769992.\n",
      "[I 2024-03-25 21:17:07,248] Trial 104 finished with value: 6.510144407940861 and parameters: {'n_estimators': 1404, 'max_depth': 1894, 'learning_rate': 0.013252058480264882, 'num_leaves': 326, 'subsample': 0.8792220837018754, 'colsample_bytree': 0.43339849596360597, 'reg_lambda': 0.30538361023559263, 'min_data_in_leaf': 16}. Best is trial 62 with value: 6.494416336769992.\n",
      "[I 2024-03-25 21:18:00,647] Trial 105 finished with value: 6.526360271737445 and parameters: {'n_estimators': 1429, 'max_depth': 1892, 'learning_rate': 0.013276320406007522, 'num_leaves': 346, 'subsample': 0.8969132794393043, 'colsample_bytree': 0.4018001302262396, 'reg_lambda': 0.33376355067643537, 'min_data_in_leaf': 17}. Best is trial 62 with value: 6.494416336769992.\n",
      "[I 2024-03-25 21:18:54,371] Trial 106 finished with value: 6.580992514234666 and parameters: {'n_estimators': 1425, 'max_depth': 1891, 'learning_rate': 0.014365473366301767, 'num_leaves': 341, 'subsample': 0.8935592498761235, 'colsample_bytree': 0.40032099042939806, 'reg_lambda': 0.35135275369365127, 'min_data_in_leaf': 31}. Best is trial 62 with value: 6.494416336769992.\n",
      "[I 2024-03-25 21:19:46,254] Trial 107 finished with value: 6.495065727453096 and parameters: {'n_estimators': 1404, 'max_depth': 1814, 'learning_rate': 0.014878314582684626, 'num_leaves': 334, 'subsample': 0.8821637281586919, 'colsample_bytree': 0.41652325652387345, 'reg_lambda': 0.3345516061981901, 'min_data_in_leaf': 17}. Best is trial 62 with value: 6.494416336769992.\n",
      "[I 2024-03-25 21:20:35,731] Trial 108 finished with value: 6.5629140778576645 and parameters: {'n_estimators': 1335, 'max_depth': 1812, 'learning_rate': 0.015734939872153336, 'num_leaves': 352, 'subsample': 0.8949585582364045, 'colsample_bytree': 0.40972115763568706, 'reg_lambda': 0.3368459675996828, 'min_data_in_leaf': 17}. Best is trial 62 with value: 6.494416336769992.\n",
      "[I 2024-03-25 21:21:25,296] Trial 109 finished with value: 6.594029465663551 and parameters: {'n_estimators': 1357, 'max_depth': 1828, 'learning_rate': 0.01484003240433299, 'num_leaves': 318, 'subsample': 0.8793183307534457, 'colsample_bytree': 0.42494260621775815, 'reg_lambda': 0.3198974808072568, 'min_data_in_leaf': 25}. Best is trial 62 with value: 6.494416336769992.\n",
      "[I 2024-03-25 21:22:15,589] Trial 110 finished with value: 6.543685117546953 and parameters: {'n_estimators': 1385, 'max_depth': 1845, 'learning_rate': 0.014066426593646524, 'num_leaves': 333, 'subsample': 0.8646668595938859, 'colsample_bytree': 0.4328637825990182, 'reg_lambda': 0.3624938104400546, 'min_data_in_leaf': 8}. Best is trial 62 with value: 6.494416336769992.\n"
     ]
    },
    {
     "name": "stderr",
     "output_type": "stream",
     "text": [
      "[I 2024-03-25 21:23:06,851] Trial 111 finished with value: 6.523630431738793 and parameters: {'n_estimators': 1399, 'max_depth': 1852, 'learning_rate': 0.013325359978759267, 'num_leaves': 323, 'subsample': 0.8846470489076093, 'colsample_bytree': 0.4171690175210685, 'reg_lambda': 0.32872751694550983, 'min_data_in_leaf': 20}. Best is trial 62 with value: 6.494416336769992.\n",
      "[I 2024-03-25 21:23:57,348] Trial 112 finished with value: 6.563344604311508 and parameters: {'n_estimators': 1371, 'max_depth': 1800, 'learning_rate': 0.013342489030200598, 'num_leaves': 340, 'subsample': 0.8998868678868887, 'colsample_bytree': 0.41237657405350125, 'reg_lambda': 0.3489057057399533, 'min_data_in_leaf': 21}. Best is trial 62 with value: 6.494416336769992.\n",
      "[I 2024-03-25 21:24:48,793] Trial 113 finished with value: 6.500349707457045 and parameters: {'n_estimators': 1396, 'max_depth': 1892, 'learning_rate': 0.014671648116432547, 'num_leaves': 330, 'subsample': 0.881507662617918, 'colsample_bytree': 0.40686227874941044, 'reg_lambda': 0.33940111267414463, 'min_data_in_leaf': 20}. Best is trial 62 with value: 6.494416336769992.\n",
      "[I 2024-03-25 21:25:38,578] Trial 114 finished with value: 6.542041578026078 and parameters: {'n_estimators': 1342, 'max_depth': 1899, 'learning_rate': 0.01501763042633658, 'num_leaves': 346, 'subsample': 0.8823605119476925, 'colsample_bytree': 0.40553553043390206, 'reg_lambda': 0.3282241891903478, 'min_data_in_leaf': 18}. Best is trial 62 with value: 6.494416336769992.\n",
      "[I 2024-03-25 21:26:32,195] Trial 115 finished with value: 6.5344897605751 and parameters: {'n_estimators': 1433, 'max_depth': 1882, 'learning_rate': 0.015368866012708903, 'num_leaves': 337, 'subsample': 0.8600189481984892, 'colsample_bytree': 0.4161824947602784, 'reg_lambda': 0.33599649949247046, 'min_data_in_leaf': 22}. Best is trial 62 with value: 6.494416336769992.\n",
      "[I 2024-03-25 21:27:23,515] Trial 116 finished with value: 6.530878996002141 and parameters: {'n_estimators': 1417, 'max_depth': 1815, 'learning_rate': 0.013472688692877635, 'num_leaves': 311, 'subsample': 0.8933697033557159, 'colsample_bytree': 0.40125332971585076, 'reg_lambda': 0.31448952861294377, 'min_data_in_leaf': 20}. Best is trial 62 with value: 6.494416336769992.\n",
      "[I 2024-03-25 21:28:14,284] Trial 117 finished with value: 6.538751254985727 and parameters: {'n_estimators': 1388, 'max_depth': 1837, 'learning_rate': 0.014619033484768808, 'num_leaves': 332, 'subsample': 0.886856919581961, 'colsample_bytree': 0.42522458395972745, 'reg_lambda': 0.32873694074091775, 'min_data_in_leaf': 11}. Best is trial 62 with value: 6.494416336769992.\n",
      "[I 2024-03-25 21:29:04,263] Trial 118 finished with value: 6.58652425007049 and parameters: {'n_estimators': 1370, 'max_depth': 1914, 'learning_rate': 0.012161466508789043, 'num_leaves': 330, 'subsample': 0.8751989495893646, 'colsample_bytree': 0.40700846411976627, 'reg_lambda': 0.34279439336295336, 'min_data_in_leaf': 17}. Best is trial 62 with value: 6.494416336769992.\n",
      "[I 2024-03-25 21:29:56,863] Trial 119 finished with value: 6.61950560297031 and parameters: {'n_estimators': 1398, 'max_depth': 1934, 'learning_rate': 0.012586248496707815, 'num_leaves': 358, 'subsample': 0.8016770812956641, 'colsample_bytree': 0.4206938440650731, 'reg_lambda': 0.35712215744938053, 'min_data_in_leaf': 25}. Best is trial 62 with value: 6.494416336769992.\n",
      "[I 2024-03-25 21:30:49,452] Trial 120 finished with value: 6.482948590271097 and parameters: {'n_estimators': 1449, 'max_depth': 1890, 'learning_rate': 0.016116700322533466, 'num_leaves': 298, 'subsample': 0.8686215256620257, 'colsample_bytree': 0.41440338287837253, 'reg_lambda': 0.3755084029508192, 'min_data_in_leaf': 20}. Best is trial 120 with value: 6.482948590271097.\n",
      "[I 2024-03-25 21:31:42,895] Trial 121 finished with value: 6.575627350043709 and parameters: {'n_estimators': 1450, 'max_depth': 1877, 'learning_rate': 0.016874367429238573, 'num_leaves': 302, 'subsample': 0.8669068942106661, 'colsample_bytree': 0.4139179303584812, 'reg_lambda': 0.36922122259315954, 'min_data_in_leaf': 30}. Best is trial 120 with value: 6.482948590271097.\n",
      "[I 2024-03-25 21:32:34,432] Trial 122 finished with value: 6.507276115195762 and parameters: {'n_estimators': 1425, 'max_depth': 1894, 'learning_rate': 0.016321258471316814, 'num_leaves': 298, 'subsample': 0.881899442137994, 'colsample_bytree': 0.4353867929648605, 'reg_lambda': 0.3809981912022888, 'min_data_in_leaf': 20}. Best is trial 120 with value: 6.482948590271097.\n",
      "[I 2024-03-25 21:33:26,827] Trial 123 finished with value: 6.48820251229061 and parameters: {'n_estimators': 1456, 'max_depth': 1851, 'learning_rate': 0.016241450897989736, 'num_leaves': 287, 'subsample': 0.8812474775069313, 'colsample_bytree': 0.43419267727680516, 'reg_lambda': 0.39366229789899043, 'min_data_in_leaf': 20}. Best is trial 120 with value: 6.482948590271097.\n",
      "[I 2024-03-25 21:34:19,578] Trial 124 finished with value: 6.482924718740242 and parameters: {'n_estimators': 1454, 'max_depth': 1849, 'learning_rate': 0.017590469404246713, 'num_leaves': 294, 'subsample': 0.8803641382602068, 'colsample_bytree': 0.4333919129450259, 'reg_lambda': 0.38629757373810925, 'min_data_in_leaf': 20}. Best is trial 124 with value: 6.482924718740242.\n",
      "[I 2024-03-25 21:35:15,311] Trial 125 finished with value: 6.578375435997796 and parameters: {'n_estimators': 1462, 'max_depth': 1824, 'learning_rate': 0.017711242101946623, 'num_leaves': 289, 'subsample': 0.8732868810709625, 'colsample_bytree': 0.44984518069986434, 'reg_lambda': 0.3833227805842838, 'min_data_in_leaf': 14}. Best is trial 124 with value: 6.482924718740242.\n",
      "[I 2024-03-25 21:36:09,197] Trial 126 finished with value: 6.539874232098863 and parameters: {'n_estimators': 1485, 'max_depth': 1838, 'learning_rate': 0.017029968420930398, 'num_leaves': 287, 'subsample': 0.8803754373723002, 'colsample_bytree': 0.4341442001446999, 'reg_lambda': 0.404623375416035, 'min_data_in_leaf': 24}. Best is trial 124 with value: 6.482924718740242.\n",
      "[I 2024-03-25 21:37:01,915] Trial 127 finished with value: 6.570071165367456 and parameters: {'n_estimators': 1448, 'max_depth': 1867, 'learning_rate': 0.01632390192860051, 'num_leaves': 295, 'subsample': 0.8572728104699555, 'colsample_bytree': 0.43070300871016115, 'reg_lambda': 0.3951928916172903, 'min_data_in_leaf': 27}. Best is trial 124 with value: 6.482924718740242.\n",
      "[I 2024-03-25 21:37:59,310] Trial 128 finished with value: 6.606518867961913 and parameters: {'n_estimators': 1424, 'max_depth': 1813, 'learning_rate': 0.01594203676504735, 'num_leaves': 308, 'subsample': 0.8695856934637455, 'colsample_bytree': 0.45692183880826753, 'reg_lambda': 0.3797831420493946, 'min_data_in_leaf': 22}. Best is trial 124 with value: 6.482924718740242.\n",
      "[I 2024-03-25 21:38:51,362] Trial 129 finished with value: 6.503193994856998 and parameters: {'n_estimators': 1458, 'max_depth': 1924, 'learning_rate': 0.018097892281158833, 'num_leaves': 298, 'subsample': 0.8505083811005789, 'colsample_bytree': 0.43613764402279376, 'reg_lambda': 0.40793448853698355, 'min_data_in_leaf': 12}. Best is trial 124 with value: 6.482924718740242.\n",
      "[I 2024-03-25 21:39:51,216] Trial 130 finished with value: 6.806919936917268 and parameters: {'n_estimators': 1459, 'max_depth': 1925, 'learning_rate': 0.01848794840895491, 'num_leaves': 283, 'subsample': 0.8447102423412732, 'colsample_bytree': 0.4475702524890402, 'reg_lambda': 0.4066700075886046, 'min_data_in_leaf': 41}. Best is trial 124 with value: 6.482924718740242.\n",
      "[I 2024-03-25 21:40:46,035] Trial 131 finished with value: 6.584070509439315 and parameters: {'n_estimators': 1436, 'max_depth': 1906, 'learning_rate': 0.018094856395631003, 'num_leaves': 298, 'subsample': 0.8503786357283091, 'colsample_bytree': 0.5356645880064784, 'reg_lambda': 0.3937591314675316, 'min_data_in_leaf': 12}. Best is trial 124 with value: 6.482924718740242.\n",
      "[I 2024-03-25 21:41:41,187] Trial 132 finished with value: 6.533611452649629 and parameters: {'n_estimators': 1493, 'max_depth': 1878, 'learning_rate': 0.017523262228211517, 'num_leaves': 300, 'subsample': 0.6617994325062857, 'colsample_bytree': 0.4361907789586518, 'reg_lambda': 0.4301343028533201, 'min_data_in_leaf': 19}. Best is trial 124 with value: 6.482924718740242.\n"
     ]
    },
    {
     "name": "stderr",
     "output_type": "stream",
     "text": [
      "[I 2024-03-25 21:42:37,281] Trial 133 finished with value: 6.501917330625025 and parameters: {'n_estimators': 1523, 'max_depth': 1853, 'learning_rate': 0.016410071288120803, 'num_leaves': 306, 'subsample': 0.8622106589265001, 'colsample_bytree': 0.4285399467845178, 'reg_lambda': 0.4130152131633709, 'min_data_in_leaf': 10}. Best is trial 124 with value: 6.482924718740242.\n",
      "[I 2024-03-25 21:43:33,051] Trial 134 finished with value: 6.475948394823879 and parameters: {'n_estimators': 1517, 'max_depth': 1849, 'learning_rate': 0.01719884053246274, 'num_leaves': 306, 'subsample': 0.8622280555866536, 'colsample_bytree': 0.4273469046072869, 'reg_lambda': 0.4119626422492359, 'min_data_in_leaf': 9}. Best is trial 134 with value: 6.475948394823879.\n",
      "[I 2024-03-25 21:44:30,055] Trial 135 finished with value: 6.554167073832532 and parameters: {'n_estimators': 1550, 'max_depth': 1844, 'learning_rate': 0.016622339653849672, 'num_leaves': 306, 'subsample': 0.8401971414711673, 'colsample_bytree': 0.4272583905753836, 'reg_lambda': 0.4104981507464195, 'min_data_in_leaf': 6}. Best is trial 134 with value: 6.475948394823879.\n",
      "[I 2024-03-25 21:45:30,762] Trial 136 finished with value: 6.593583645300767 and parameters: {'n_estimators': 1535, 'max_depth': 1827, 'learning_rate': 0.017090643194097407, 'num_leaves': 314, 'subsample': 0.8607396223600217, 'colsample_bytree': 0.4407105265881329, 'reg_lambda': 0.4480045791376476, 'min_data_in_leaf': 9}. Best is trial 134 with value: 6.475948394823879.\n",
      "[I 2024-03-25 21:46:22,755] Trial 137 finished with value: 6.515917818814174 and parameters: {'n_estimators': 1474, 'max_depth': 1800, 'learning_rate': 0.019237650434758724, 'num_leaves': 277, 'subsample': 0.8527952071819369, 'colsample_bytree': 0.4208654810408838, 'reg_lambda': 0.3882086698149883, 'min_data_in_leaf': 11}. Best is trial 134 with value: 6.475948394823879.\n",
      "[I 2024-03-25 21:47:22,363] Trial 138 finished with value: 6.584457832708862 and parameters: {'n_estimators': 1516, 'max_depth': 1854, 'learning_rate': 0.018686543574527988, 'num_leaves': 318, 'subsample': 0.8642595359994082, 'colsample_bytree': 0.46070981371450415, 'reg_lambda': 0.42595748652829046, 'min_data_in_leaf': 7}. Best is trial 134 with value: 6.475948394823879.\n",
      "[I 2024-03-25 21:48:21,691] Trial 139 finished with value: 6.603864876555964 and parameters: {'n_estimators': 1520, 'max_depth': 1836, 'learning_rate': 0.01620014147270177, 'num_leaves': 304, 'subsample': 0.8481932163155705, 'colsample_bytree': 0.4489308511352288, 'reg_lambda': 0.41693065795372075, 'min_data_in_leaf': 10}. Best is trial 134 with value: 6.475948394823879.\n",
      "[I 2024-03-25 21:49:02,604] Trial 140 finished with value: 6.556839181444054 and parameters: {'n_estimators': 1193, 'max_depth': 1876, 'learning_rate': 0.017282479699023315, 'num_leaves': 298, 'subsample': 0.7027840507608227, 'colsample_bytree': 0.4282054791391278, 'reg_lambda': 0.37379367807716024, 'min_data_in_leaf': 13}. Best is trial 134 with value: 6.475948394823879.\n",
      "[I 2024-03-25 21:49:49,342] Trial 141 finished with value: 6.67452613049241 and parameters: {'n_estimators': 1445, 'max_depth': 1894, 'learning_rate': 0.016520038551103757, 'num_leaves': 309, 'subsample': 0.873601589659688, 'colsample_bytree': 0.4342995647052743, 'reg_lambda': 0.4367037394187456, 'min_data_in_leaf': 87}. Best is trial 134 with value: 6.475948394823879.\n",
      "[I 2024-03-25 21:50:43,363] Trial 142 finished with value: 6.5929654476538735 and parameters: {'n_estimators': 1416, 'max_depth': 1856, 'learning_rate': 0.017854361143376036, 'num_leaves': 290, 'subsample': 0.8806600181014435, 'colsample_bytree': 0.44038507246234276, 'reg_lambda': 0.40109177810300073, 'min_data_in_leaf': 16}. Best is trial 134 with value: 6.475948394823879.\n",
      "[I 2024-03-25 21:51:36,660] Trial 143 finished with value: 6.471724690456454 and parameters: {'n_estimators': 1481, 'max_depth': 1887, 'learning_rate': 0.015837350734304038, 'num_leaves': 284, 'subsample': 0.8678824887669903, 'colsample_bytree': 0.424078697304595, 'reg_lambda': 0.3640316252360385, 'min_data_in_leaf': 18}. Best is trial 143 with value: 6.471724690456454.\n",
      "[I 2024-03-25 21:52:30,003] Trial 144 finished with value: 6.5327991885268935 and parameters: {'n_estimators': 1480, 'max_depth': 1816, 'learning_rate': 0.015583326838647374, 'num_leaves': 281, 'subsample': 0.8561377906061772, 'colsample_bytree': 0.42340092680247243, 'reg_lambda': 0.3766431194722784, 'min_data_in_leaf': 20}. Best is trial 143 with value: 6.471724690456454.\n",
      "[I 2024-03-25 21:53:24,626] Trial 145 finished with value: 6.556188476130499 and parameters: {'n_estimators': 1492, 'max_depth': 1870, 'learning_rate': 0.015878103154819363, 'num_leaves': 293, 'subsample': 0.8602527348644737, 'colsample_bytree': 0.41547255195147653, 'reg_lambda': 0.3616053292420436, 'min_data_in_leaf': 23}. Best is trial 143 with value: 6.471724690456454.\n",
      "[I 2024-03-25 21:54:16,941] Trial 146 finished with value: 6.490124272713345 and parameters: {'n_estimators': 1459, 'max_depth': 1847, 'learning_rate': 0.016707313885194707, 'num_leaves': 287, 'subsample': 0.8690249154701614, 'colsample_bytree': 0.40999352817308315, 'reg_lambda': 0.3889963713180186, 'min_data_in_leaf': 18}. Best is trial 143 with value: 6.471724690456454.\n",
      "[I 2024-03-25 21:55:09,076] Trial 147 finished with value: 6.495780918623823 and parameters: {'n_estimators': 1461, 'max_depth': 1907, 'learning_rate': 0.016713816640195448, 'num_leaves': 286, 'subsample': 0.8358567940836954, 'colsample_bytree': 0.41035637379633255, 'reg_lambda': 0.38971588936291574, 'min_data_in_leaf': 13}. Best is trial 143 with value: 6.471724690456454.\n",
      "[I 2024-03-25 21:56:00,681] Trial 148 finished with value: 6.4793374797980805 and parameters: {'n_estimators': 1456, 'max_depth': 1920, 'learning_rate': 0.016844230206986183, 'num_leaves': 274, 'subsample': 0.8679700828236571, 'colsample_bytree': 0.40945953781100836, 'reg_lambda': 0.39442726047210946, 'min_data_in_leaf': 18}. Best is trial 143 with value: 6.471724690456454.\n",
      "[I 2024-03-25 21:56:52,126] Trial 149 finished with value: 6.521828938468188 and parameters: {'n_estimators': 1465, 'max_depth': 1925, 'learning_rate': 0.016665055687329188, 'num_leaves': 275, 'subsample': 0.8321565177787589, 'colsample_bytree': 0.40945865221849076, 'reg_lambda': 0.4205362249626422, 'min_data_in_leaf': 12}. Best is trial 143 with value: 6.471724690456454.\n"
     ]
    }
   ],
   "source": [
    "study = optuna.create_study(direction='minimize')\n",
    "study.optimize(objective, n_trials=150)"
   ]
  },
  {
   "cell_type": "code",
   "execution_count": 84,
   "id": "9a63a958",
   "metadata": {},
   "outputs": [
    {
     "data": {
      "text/plain": [
       "{'n_estimators': 1481,\n",
       " 'max_depth': 1887,\n",
       " 'learning_rate': 0.015837350734304038,\n",
       " 'num_leaves': 284,\n",
       " 'subsample': 0.8678824887669903,\n",
       " 'colsample_bytree': 0.424078697304595,\n",
       " 'reg_lambda': 0.3640316252360385,\n",
       " 'min_data_in_leaf': 18}"
      ]
     },
     "execution_count": 84,
     "metadata": {},
     "output_type": "execute_result"
    }
   ],
   "source": [
    "study.best_params"
   ]
  },
  {
   "cell_type": "code",
   "execution_count": 61,
   "id": "01ae53cc",
   "metadata": {
    "scrolled": true
   },
   "outputs": [
    {
     "data": {
      "text/plain": [
       "6.471724690456454"
      ]
     },
     "execution_count": 61,
     "metadata": {},
     "output_type": "execute_result"
    }
   ],
   "source": [
    "params = {\n",
    "    \"objective\": \"regression\",\n",
    "    \"metric\": \"rmse\",\n",
    "    \"boosting_type\": \"dart\",\n",
    "    \"verbosity\": -1,\n",
    "    \"bagging_freq\": 1,\n",
    "    'n_estimators': 1481,\n",
    "    'max_depth': 1887,\n",
    "    'learning_rate': 0.015837350734304038,\n",
    "    'num_leaves': 284,\n",
    "    'subsample': 0.8678824887669903,\n",
    "    'colsample_bytree': 0.424078697304595,\n",
    "    'reg_lambda': 0.3640316252360385,\n",
    "    'min_data_in_leaf': 18}\n",
    "model1 = lgb.LGBMRegressor(**params)\n",
    "model1.fit(X_train, y_train)\n",
    "predictions = model1.predict(X_valid)\n",
    "rmse = mean_squared_error(y_valid, predictions, squared=False)\n",
    "rmse"
   ]
  },
  {
   "cell_type": "markdown",
   "id": "041fe832",
   "metadata": {},
   "source": [
    "LGBMRegressor показал наилучшее качество, поэтому проверим не переобучилась ли наша модель"
   ]
  },
  {
   "cell_type": "code",
   "execution_count": 62,
   "id": "7caa5e90",
   "metadata": {},
   "outputs": [
    {
     "data": {
      "text/plain": [
       "4.869691319163483"
      ]
     },
     "execution_count": 62,
     "metadata": {},
     "output_type": "execute_result"
    }
   ],
   "source": [
    "params = {\n",
    "    \"objective\": \"regression\",\n",
    "    \"metric\": \"rmse\",\n",
    "    \"boosting_type\": \"dart\",\n",
    "    'n_estimators': 1481,\n",
    "    'max_depth': 1887,\n",
    "    \"verbosity\": -1,\n",
    "    \"bagging_freq\": 1,\n",
    "    'learning_rate': 0.015837350734304038,\n",
    "    'num_leaves': 284,\n",
    "    'subsample': 0.8678824887669903,\n",
    "    'colsample_bytree': 0.424078697304595,\n",
    "    'reg_lambda': 0.3640316252360385,\n",
    "    'min_data_in_leaf': 18}\n",
    "model1 = lgb.LGBMRegressor(**params)\n",
    "model1.fit(X_train, y_train)\n",
    "predictions = model1.predict(X_train)\n",
    "rmse = mean_squared_error(y_train, predictions, squared=False)\n",
    "rmse"
   ]
  },
  {
   "cell_type": "code",
   "execution_count": 63,
   "id": "19f74cff",
   "metadata": {},
   "outputs": [
    {
     "data": {
      "text/plain": [
       "7.424833247819395"
      ]
     },
     "execution_count": 63,
     "metadata": {},
     "output_type": "execute_result"
    }
   ],
   "source": [
    "y_train.mean()"
   ]
  },
  {
   "cell_type": "markdown",
   "id": "8e7c0acc",
   "metadata": {},
   "source": [
    "Нет, наша модель не переобучилась"
   ]
  },
  {
   "cell_type": "markdown",
   "id": "0b36ca19",
   "metadata": {},
   "source": [
    "Оценим Feature Importance"
   ]
  },
  {
   "cell_type": "code",
   "execution_count": 64,
   "id": "9859df99",
   "metadata": {},
   "outputs": [
    {
     "data": {
      "image/png": "[encoded data removed]",
      "text/plain": [
       "<Figure size 1000x800 with 1 Axes>"
      ]
     },
     "metadata": {},
     "output_type": "display_data"
    }
   ],
   "source": [
    "### Из любопытства посмотрим на feature_importance\n",
    "\n",
    "def plot_feature_importance(importance,names,model_type):\n",
    "    feature_importance = np.array(importance)\n",
    "    feature_names = np.array(names)\n",
    "    \n",
    "    data={'feature_names':feature_names,'feature_importance':feature_importance}\n",
    "    fi_df = pd.DataFrame(data)\n",
    "\n",
    "    fi_df.sort_values(by=['feature_importance'], ascending=False,inplace=True)\n",
    "\n",
    "    plt.figure(figsize=(10,8))\n",
    "    sns.barplot(x=fi_df['feature_importance'], y=fi_df['feature_names'])\n",
    "    plt.title(model_type + ' FEATURE IMPORTANCE')\n",
    "    plt.xlabel('ВАЖНОСТЬ ПРИЗНАКА')\n",
    "    plt.ylabel('НАЗВАНИЕ ПРИЗНАКА')\n",
    "\n",
    "plot_feature_importance(model1.feature_importances_,X_train.columns,'LGBMRegressor')"
   ]
  },
  {
   "cell_type": "markdown",
   "id": "6e53c8c5",
   "metadata": {},
   "source": [
    "Исходя из вышенарисованного графика можно сделать вывод, что больше всего повлияли колонки day и percent_of_discount"
   ]
  },
  {
   "cell_type": "markdown",
   "id": "1856908f",
   "metadata": {},
   "source": [
    "Сделаем выгрузку предсказаний"
   ]
  },
  {
   "cell_type": "code",
   "execution_count": 65,
   "id": "762e2bb0",
   "metadata": {},
   "outputs": [],
   "source": [
    "predictions_test = model1.predict(X_test)"
   ]
  },
  {
   "cell_type": "code",
   "execution_count": 66,
   "id": "f5d54751",
   "metadata": {},
   "outputs": [],
   "source": [
    "predictions_test = pd.Series(predictions_test)"
   ]
  },
  {
   "cell_type": "code",
   "execution_count": 67,
   "id": "4cdc5e9a",
   "metadata": {},
   "outputs": [
    {
     "data": {
      "text/plain": [
       "0      26.208462\n",
       "1       2.153438\n",
       "2       5.114998\n",
       "3       5.307383\n",
       "4      14.991370\n",
       "         ...    \n",
       "521     3.012286\n",
       "522    14.394386\n",
       "523     3.015823\n",
       "524     2.420086\n",
       "525    10.413499\n",
       "Length: 526, dtype: float64"
      ]
     },
     "execution_count": 67,
     "metadata": {},
     "output_type": "execute_result"
    }
   ],
   "source": [
    "predictions_test"
   ]
  },
  {
   "cell_type": "code",
   "execution_count": 72,
   "id": "d84ac59a",
   "metadata": {},
   "outputs": [],
   "source": [
    "tmp_X_test = X_test.reset_index(drop=True)"
   ]
  },
  {
   "cell_type": "code",
   "execution_count": 71,
   "id": "a1616d0c",
   "metadata": {},
   "outputs": [
    {
     "data": {
      "text/html": [
       "<div>\n",
       "<style scoped>\n",
       "    .dataframe tbody tr th:only-of-type {\n",
       "        vertical-align: middle;\n",
       "    }\n",
       "\n",
       "    .dataframe tbody tr th {\n",
       "        vertical-align: top;\n",
       "    }\n",
       "\n",
       "    .dataframe thead th {\n",
       "        text-align: right;\n",
       "    }\n",
       "</style>\n",
       "<table border=\"1\" class=\"dataframe\">\n",
       "  <thead>\n",
       "    <tr style=\"text-align: right;\">\n",
       "      <th></th>\n",
       "      <th>item_id</th>\n",
       "      <th>promo_typeCode</th>\n",
       "      <th>day_of_week</th>\n",
       "      <th>year</th>\n",
       "      <th>month</th>\n",
       "      <th>day</th>\n",
       "      <th>percent_of_discount</th>\n",
       "      <th>is_hol</th>\n",
       "    </tr>\n",
       "  </thead>\n",
       "  <tbody>\n",
       "    <tr>\n",
       "      <th>12789</th>\n",
       "      <td>100165</td>\n",
       "      <td>5.0</td>\n",
       "      <td>0</td>\n",
       "      <td>2024</td>\n",
       "      <td>1</td>\n",
       "      <td>1</td>\n",
       "      <td>14.0</td>\n",
       "      <td>1</td>\n",
       "    </tr>\n",
       "    <tr>\n",
       "      <th>21770</th>\n",
       "      <td>100390</td>\n",
       "      <td>6.0</td>\n",
       "      <td>0</td>\n",
       "      <td>2024</td>\n",
       "      <td>1</td>\n",
       "      <td>1</td>\n",
       "      <td>29.0</td>\n",
       "      <td>1</td>\n",
       "    </tr>\n",
       "    <tr>\n",
       "      <th>22988</th>\n",
       "      <td>100596</td>\n",
       "      <td>6.0</td>\n",
       "      <td>0</td>\n",
       "      <td>2024</td>\n",
       "      <td>1</td>\n",
       "      <td>1</td>\n",
       "      <td>21.0</td>\n",
       "      <td>1</td>\n",
       "    </tr>\n",
       "    <tr>\n",
       "      <th>19486</th>\n",
       "      <td>100551</td>\n",
       "      <td>5.0</td>\n",
       "      <td>0</td>\n",
       "      <td>2024</td>\n",
       "      <td>1</td>\n",
       "      <td>1</td>\n",
       "      <td>0.0</td>\n",
       "      <td>1</td>\n",
       "    </tr>\n",
       "    <tr>\n",
       "      <th>19503</th>\n",
       "      <td>100516</td>\n",
       "      <td>5.0</td>\n",
       "      <td>0</td>\n",
       "      <td>2024</td>\n",
       "      <td>1</td>\n",
       "      <td>1</td>\n",
       "      <td>0.0</td>\n",
       "      <td>1</td>\n",
       "    </tr>\n",
       "    <tr>\n",
       "      <th>...</th>\n",
       "      <td>...</td>\n",
       "      <td>...</td>\n",
       "      <td>...</td>\n",
       "      <td>...</td>\n",
       "      <td>...</td>\n",
       "      <td>...</td>\n",
       "      <td>...</td>\n",
       "      <td>...</td>\n",
       "    </tr>\n",
       "    <tr>\n",
       "      <th>12455</th>\n",
       "      <td>100651</td>\n",
       "      <td>6.0</td>\n",
       "      <td>2</td>\n",
       "      <td>2024</td>\n",
       "      <td>1</td>\n",
       "      <td>31</td>\n",
       "      <td>30.0</td>\n",
       "      <td>0</td>\n",
       "    </tr>\n",
       "    <tr>\n",
       "      <th>8580</th>\n",
       "      <td>100470</td>\n",
       "      <td>5.0</td>\n",
       "      <td>2</td>\n",
       "      <td>2024</td>\n",
       "      <td>1</td>\n",
       "      <td>31</td>\n",
       "      <td>29.0</td>\n",
       "      <td>0</td>\n",
       "    </tr>\n",
       "    <tr>\n",
       "      <th>25273</th>\n",
       "      <td>100664</td>\n",
       "      <td>5.0</td>\n",
       "      <td>2</td>\n",
       "      <td>2024</td>\n",
       "      <td>1</td>\n",
       "      <td>31</td>\n",
       "      <td>27.0</td>\n",
       "      <td>0</td>\n",
       "    </tr>\n",
       "    <tr>\n",
       "      <th>25971</th>\n",
       "      <td>100126</td>\n",
       "      <td>5.0</td>\n",
       "      <td>2</td>\n",
       "      <td>2024</td>\n",
       "      <td>1</td>\n",
       "      <td>31</td>\n",
       "      <td>2.0</td>\n",
       "      <td>0</td>\n",
       "    </tr>\n",
       "    <tr>\n",
       "      <th>11609</th>\n",
       "      <td>100517</td>\n",
       "      <td>44.0</td>\n",
       "      <td>2</td>\n",
       "      <td>2024</td>\n",
       "      <td>1</td>\n",
       "      <td>31</td>\n",
       "      <td>29.0</td>\n",
       "      <td>0</td>\n",
       "    </tr>\n",
       "  </tbody>\n",
       "</table>\n",
       "<p>526 rows × 8 columns</p>\n",
       "</div>"
      ],
      "text/plain": [
       "       item_id  promo_typeCode  day_of_week  year  month  day  \\\n",
       "12789   100165             5.0            0  2024      1    1   \n",
       "21770   100390             6.0            0  2024      1    1   \n",
       "22988   100596             6.0            0  2024      1    1   \n",
       "19486   100551             5.0            0  2024      1    1   \n",
       "19503   100516             5.0            0  2024      1    1   \n",
       "...        ...             ...          ...   ...    ...  ...   \n",
       "12455   100651             6.0            2  2024      1   31   \n",
       "8580    100470             5.0            2  2024      1   31   \n",
       "25273   100664             5.0            2  2024      1   31   \n",
       "25971   100126             5.0            2  2024      1   31   \n",
       "11609   100517            44.0            2  2024      1   31   \n",
       "\n",
       "       percent_of_discount  is_hol  \n",
       "12789                 14.0       1  \n",
       "21770                 29.0       1  \n",
       "22988                 21.0       1  \n",
       "19486                  0.0       1  \n",
       "19503                  0.0       1  \n",
       "...                    ...     ...  \n",
       "12455                 30.0       0  \n",
       "8580                  29.0       0  \n",
       "25273                 27.0       0  \n",
       "25971                  2.0       0  \n",
       "11609                 29.0       0  \n",
       "\n",
       "[526 rows x 8 columns]"
      ]
     },
     "execution_count": 71,
     "metadata": {},
     "output_type": "execute_result"
    }
   ],
   "source": [
    "X_test"
   ]
  },
  {
   "cell_type": "code",
   "execution_count": 86,
   "id": "031d79b4",
   "metadata": {},
   "outputs": [],
   "source": [
    "test_itog = pd.concat([tmp_X_test, predictions_test], axis = 1)"
   ]
  },
  {
   "cell_type": "code",
   "execution_count": 90,
   "id": "c51fade1",
   "metadata": {},
   "outputs": [
    {
     "data": {
      "text/html": [
       "<div>\n",
       "<style scoped>\n",
       "    .dataframe tbody tr th:only-of-type {\n",
       "        vertical-align: middle;\n",
       "    }\n",
       "\n",
       "    .dataframe tbody tr th {\n",
       "        vertical-align: top;\n",
       "    }\n",
       "\n",
       "    .dataframe thead th {\n",
       "        text-align: right;\n",
       "    }\n",
       "</style>\n",
       "<table border=\"1\" class=\"dataframe\">\n",
       "  <thead>\n",
       "    <tr style=\"text-align: right;\">\n",
       "      <th></th>\n",
       "      <th>item_id</th>\n",
       "      <th>promo_typeCode</th>\n",
       "      <th>day_of_week</th>\n",
       "      <th>year</th>\n",
       "      <th>month</th>\n",
       "      <th>day</th>\n",
       "      <th>percent_of_discount</th>\n",
       "      <th>is_hol</th>\n",
       "      <th>prediction</th>\n",
       "    </tr>\n",
       "  </thead>\n",
       "  <tbody>\n",
       "    <tr>\n",
       "      <th>0</th>\n",
       "      <td>100165</td>\n",
       "      <td>5.0</td>\n",
       "      <td>0</td>\n",
       "      <td>2024</td>\n",
       "      <td>1</td>\n",
       "      <td>1</td>\n",
       "      <td>14.0</td>\n",
       "      <td>1</td>\n",
       "      <td>26.208462</td>\n",
       "    </tr>\n",
       "    <tr>\n",
       "      <th>1</th>\n",
       "      <td>100390</td>\n",
       "      <td>6.0</td>\n",
       "      <td>0</td>\n",
       "      <td>2024</td>\n",
       "      <td>1</td>\n",
       "      <td>1</td>\n",
       "      <td>29.0</td>\n",
       "      <td>1</td>\n",
       "      <td>2.153438</td>\n",
       "    </tr>\n",
       "    <tr>\n",
       "      <th>2</th>\n",
       "      <td>100596</td>\n",
       "      <td>6.0</td>\n",
       "      <td>0</td>\n",
       "      <td>2024</td>\n",
       "      <td>1</td>\n",
       "      <td>1</td>\n",
       "      <td>21.0</td>\n",
       "      <td>1</td>\n",
       "      <td>5.114998</td>\n",
       "    </tr>\n",
       "    <tr>\n",
       "      <th>3</th>\n",
       "      <td>100551</td>\n",
       "      <td>5.0</td>\n",
       "      <td>0</td>\n",
       "      <td>2024</td>\n",
       "      <td>1</td>\n",
       "      <td>1</td>\n",
       "      <td>0.0</td>\n",
       "      <td>1</td>\n",
       "      <td>5.307383</td>\n",
       "    </tr>\n",
       "    <tr>\n",
       "      <th>4</th>\n",
       "      <td>100516</td>\n",
       "      <td>5.0</td>\n",
       "      <td>0</td>\n",
       "      <td>2024</td>\n",
       "      <td>1</td>\n",
       "      <td>1</td>\n",
       "      <td>0.0</td>\n",
       "      <td>1</td>\n",
       "      <td>14.991370</td>\n",
       "    </tr>\n",
       "    <tr>\n",
       "      <th>...</th>\n",
       "      <td>...</td>\n",
       "      <td>...</td>\n",
       "      <td>...</td>\n",
       "      <td>...</td>\n",
       "      <td>...</td>\n",
       "      <td>...</td>\n",
       "      <td>...</td>\n",
       "      <td>...</td>\n",
       "      <td>...</td>\n",
       "    </tr>\n",
       "    <tr>\n",
       "      <th>521</th>\n",
       "      <td>100651</td>\n",
       "      <td>6.0</td>\n",
       "      <td>2</td>\n",
       "      <td>2024</td>\n",
       "      <td>1</td>\n",
       "      <td>31</td>\n",
       "      <td>30.0</td>\n",
       "      <td>0</td>\n",
       "      <td>3.012286</td>\n",
       "    </tr>\n",
       "    <tr>\n",
       "      <th>522</th>\n",
       "      <td>100470</td>\n",
       "      <td>5.0</td>\n",
       "      <td>2</td>\n",
       "      <td>2024</td>\n",
       "      <td>1</td>\n",
       "      <td>31</td>\n",
       "      <td>29.0</td>\n",
       "      <td>0</td>\n",
       "      <td>14.394386</td>\n",
       "    </tr>\n",
       "    <tr>\n",
       "      <th>523</th>\n",
       "      <td>100664</td>\n",
       "      <td>5.0</td>\n",
       "      <td>2</td>\n",
       "      <td>2024</td>\n",
       "      <td>1</td>\n",
       "      <td>31</td>\n",
       "      <td>27.0</td>\n",
       "      <td>0</td>\n",
       "      <td>3.015823</td>\n",
       "    </tr>\n",
       "    <tr>\n",
       "      <th>524</th>\n",
       "      <td>100126</td>\n",
       "      <td>5.0</td>\n",
       "      <td>2</td>\n",
       "      <td>2024</td>\n",
       "      <td>1</td>\n",
       "      <td>31</td>\n",
       "      <td>2.0</td>\n",
       "      <td>0</td>\n",
       "      <td>2.420086</td>\n",
       "    </tr>\n",
       "    <tr>\n",
       "      <th>525</th>\n",
       "      <td>100517</td>\n",
       "      <td>44.0</td>\n",
       "      <td>2</td>\n",
       "      <td>2024</td>\n",
       "      <td>1</td>\n",
       "      <td>31</td>\n",
       "      <td>29.0</td>\n",
       "      <td>0</td>\n",
       "      <td>10.413499</td>\n",
       "    </tr>\n",
       "  </tbody>\n",
       "</table>\n",
       "<p>526 rows × 9 columns</p>\n",
       "</div>"
      ],
      "text/plain": [
       "     item_id  promo_typeCode  day_of_week  year  month  day  \\\n",
       "0     100165             5.0            0  2024      1    1   \n",
       "1     100390             6.0            0  2024      1    1   \n",
       "2     100596             6.0            0  2024      1    1   \n",
       "3     100551             5.0            0  2024      1    1   \n",
       "4     100516             5.0            0  2024      1    1   \n",
       "..       ...             ...          ...   ...    ...  ...   \n",
       "521   100651             6.0            2  2024      1   31   \n",
       "522   100470             5.0            2  2024      1   31   \n",
       "523   100664             5.0            2  2024      1   31   \n",
       "524   100126             5.0            2  2024      1   31   \n",
       "525   100517            44.0            2  2024      1   31   \n",
       "\n",
       "     percent_of_discount  is_hol  prediction  \n",
       "0                   14.0       1   26.208462  \n",
       "1                   29.0       1    2.153438  \n",
       "2                   21.0       1    5.114998  \n",
       "3                    0.0       1    5.307383  \n",
       "4                    0.0       1   14.991370  \n",
       "..                   ...     ...         ...  \n",
       "521                 30.0       0    3.012286  \n",
       "522                 29.0       0   14.394386  \n",
       "523                 27.0       0    3.015823  \n",
       "524                  2.0       0    2.420086  \n",
       "525                 29.0       0   10.413499  \n",
       "\n",
       "[526 rows x 9 columns]"
      ]
     },
     "execution_count": 90,
     "metadata": {},
     "output_type": "execute_result"
    }
   ],
   "source": [
    "test_itog"
   ]
  },
  {
   "cell_type": "code",
   "execution_count": 89,
   "id": "014faa05",
   "metadata": {},
   "outputs": [],
   "source": [
    "test_itog.rename(columns={0:\"prediction\"}, inplace=True)"
   ]
  },
  {
   "cell_type": "code",
   "execution_count": 97,
   "id": "7f9c93bc",
   "metadata": {},
   "outputs": [],
   "source": [
    "test_itog.to_csv('predictions.csv', sep = ';', index = False)"
   ]
  }
 ],
 "metadata": {
  "kernelspec": {
   "display_name": "Python 3 (ipykernel)",
   "language": "python",
   "name": "python3"
  },
  "language_info": {
   "codemirror_mode": {
    "name": "ipython",
    "version": 3
   },
   "file_extension": ".py",
   "mimetype": "text/x-python",
   "name": "python",
   "nbconvert_exporter": "python",
   "pygments_lexer": "ipython3",
   "version": "3.9.13"
  }
 },
 "nbformat": 4,
 "nbformat_minor": 5
}
